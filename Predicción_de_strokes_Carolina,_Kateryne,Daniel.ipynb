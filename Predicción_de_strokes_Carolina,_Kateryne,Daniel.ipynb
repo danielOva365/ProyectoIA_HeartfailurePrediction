{
  "nbformat": 4,
  "nbformat_minor": 0,
  "metadata": {
    "colab": {
      "name": "Predicción de strokes Carolina, Kateryne,Daniel.ipynb",
      "provenance": [],
      "collapsed_sections": [],
      "include_colab_link": true
    },
    "kernelspec": {
      "name": "python3",
      "display_name": "Python 3"
    },
    "language_info": {
      "name": "python"
    }
  },
  "cells": [
    {
      "cell_type": "markdown",
      "metadata": {
        "id": "view-in-github",
        "colab_type": "text"
      },
      "source": [
        "<a href=\"https://colab.research.google.com/github/danielOva365/ProyectoIA_HeartfailurePrediction/blob/main/Predicci%C3%B3n_de_strokes_Carolina%2C_Kateryne%2CDaniel.ipynb\" target=\"_parent\"><img src=\"https://colab.research.google.com/assets/colab-badge.svg\" alt=\"Open In Colab\"/></a>"
      ]
    },
    {
      "cell_type": "markdown",
      "metadata": {
        "id": "IHQZE9d4k4H7"
      },
      "source": [
        "**#Proyecto Final: PREDICCIÓN DE HEARTH FAILURES**\n",
        "\n",
        "**Integrante: Daniel Ovalle, Kateryne Bonilla, Carolina Soto**\n",
        "\n",
        "OBJETIVO: Emplear metodos de aprendiZaje supervisado para determinar a partir de un dataset que contiene información del estado de salud de las personas y demas datos como su edad, sexo, generó, etc. Si esta es posible que llegue a morir a causa de un ataque cardiaco.\n",
        "\n",
        "\n",
        "\n"
      ]
    },
    {
      "cell_type": "code",
      "metadata": {
        "colab": {
          "base_uri": "https://localhost:8080/",
          "height": 532
        },
        "id": "n4eIT5_0lfZr",
        "outputId": "75ba79d6-6b83-413e-e0d4-afb26dcd7c8d"
      },
      "source": [
        "import numpy as np \n",
        "import pandas as pd\n",
        "import matplotlib.pyplot as plt # data visualization\n",
        "import seaborn as sns # data visualization\n",
        "import matplotlib.pyplot as plt\n",
        "from matplotlib.colors import ListedColormap\n",
        "import matplotlib.patches as mpatches\n",
        "import seaborn as sb\n",
        "from sklearn.preprocessing import StandardScaler\n",
        "from sklearn.linear_model import LogisticRegression\n",
        "from sklearn.preprocessing import OrdinalEncoder\n",
        "from sklearn.preprocessing import MinMaxScaler\n",
        "from sklearn.model_selection import train_test_split\n",
        "from sklearn import preprocessing\n",
        "from mpl_toolkits.mplot3d import Axes3D\n",
        "from sklearn import decomposition\n",
        "from sklearn.decomposition import PCA, KernelPCA\n",
        "\n",
        "\n",
        "datos = pd.read_csv('heart_failure_clinical_records_dataset.csv')\n",
        "datos.head(15)\n"
      ],
      "execution_count": null,
      "outputs": [
        {
          "output_type": "execute_result",
          "data": {
            "text/html": [
              "<div>\n",
              "<style scoped>\n",
              "    .dataframe tbody tr th:only-of-type {\n",
              "        vertical-align: middle;\n",
              "    }\n",
              "\n",
              "    .dataframe tbody tr th {\n",
              "        vertical-align: top;\n",
              "    }\n",
              "\n",
              "    .dataframe thead th {\n",
              "        text-align: right;\n",
              "    }\n",
              "</style>\n",
              "<table border=\"1\" class=\"dataframe\">\n",
              "  <thead>\n",
              "    <tr style=\"text-align: right;\">\n",
              "      <th></th>\n",
              "      <th>age</th>\n",
              "      <th>anaemia</th>\n",
              "      <th>creatinine_phosphokinase</th>\n",
              "      <th>diabetes</th>\n",
              "      <th>ejection_fraction</th>\n",
              "      <th>high_blood_pressure</th>\n",
              "      <th>platelets</th>\n",
              "      <th>serum_creatinine</th>\n",
              "      <th>serum_sodium</th>\n",
              "      <th>sex</th>\n",
              "      <th>smoking</th>\n",
              "      <th>time</th>\n",
              "      <th>DEATH_EVENT</th>\n",
              "    </tr>\n",
              "  </thead>\n",
              "  <tbody>\n",
              "    <tr>\n",
              "      <th>0</th>\n",
              "      <td>75.0</td>\n",
              "      <td>0</td>\n",
              "      <td>582</td>\n",
              "      <td>0</td>\n",
              "      <td>20</td>\n",
              "      <td>1</td>\n",
              "      <td>265000.00</td>\n",
              "      <td>1.9</td>\n",
              "      <td>130</td>\n",
              "      <td>1</td>\n",
              "      <td>0</td>\n",
              "      <td>4</td>\n",
              "      <td>1</td>\n",
              "    </tr>\n",
              "    <tr>\n",
              "      <th>1</th>\n",
              "      <td>55.0</td>\n",
              "      <td>0</td>\n",
              "      <td>7861</td>\n",
              "      <td>0</td>\n",
              "      <td>38</td>\n",
              "      <td>0</td>\n",
              "      <td>263358.03</td>\n",
              "      <td>1.1</td>\n",
              "      <td>136</td>\n",
              "      <td>1</td>\n",
              "      <td>0</td>\n",
              "      <td>6</td>\n",
              "      <td>1</td>\n",
              "    </tr>\n",
              "    <tr>\n",
              "      <th>2</th>\n",
              "      <td>65.0</td>\n",
              "      <td>0</td>\n",
              "      <td>146</td>\n",
              "      <td>0</td>\n",
              "      <td>20</td>\n",
              "      <td>0</td>\n",
              "      <td>162000.00</td>\n",
              "      <td>1.3</td>\n",
              "      <td>129</td>\n",
              "      <td>1</td>\n",
              "      <td>1</td>\n",
              "      <td>7</td>\n",
              "      <td>1</td>\n",
              "    </tr>\n",
              "    <tr>\n",
              "      <th>3</th>\n",
              "      <td>50.0</td>\n",
              "      <td>1</td>\n",
              "      <td>111</td>\n",
              "      <td>0</td>\n",
              "      <td>20</td>\n",
              "      <td>0</td>\n",
              "      <td>210000.00</td>\n",
              "      <td>1.9</td>\n",
              "      <td>137</td>\n",
              "      <td>1</td>\n",
              "      <td>0</td>\n",
              "      <td>7</td>\n",
              "      <td>1</td>\n",
              "    </tr>\n",
              "    <tr>\n",
              "      <th>4</th>\n",
              "      <td>65.0</td>\n",
              "      <td>1</td>\n",
              "      <td>160</td>\n",
              "      <td>1</td>\n",
              "      <td>20</td>\n",
              "      <td>0</td>\n",
              "      <td>327000.00</td>\n",
              "      <td>2.7</td>\n",
              "      <td>116</td>\n",
              "      <td>0</td>\n",
              "      <td>0</td>\n",
              "      <td>8</td>\n",
              "      <td>1</td>\n",
              "    </tr>\n",
              "    <tr>\n",
              "      <th>5</th>\n",
              "      <td>90.0</td>\n",
              "      <td>1</td>\n",
              "      <td>47</td>\n",
              "      <td>0</td>\n",
              "      <td>40</td>\n",
              "      <td>1</td>\n",
              "      <td>204000.00</td>\n",
              "      <td>2.1</td>\n",
              "      <td>132</td>\n",
              "      <td>1</td>\n",
              "      <td>1</td>\n",
              "      <td>8</td>\n",
              "      <td>1</td>\n",
              "    </tr>\n",
              "    <tr>\n",
              "      <th>6</th>\n",
              "      <td>75.0</td>\n",
              "      <td>1</td>\n",
              "      <td>246</td>\n",
              "      <td>0</td>\n",
              "      <td>15</td>\n",
              "      <td>0</td>\n",
              "      <td>127000.00</td>\n",
              "      <td>1.2</td>\n",
              "      <td>137</td>\n",
              "      <td>1</td>\n",
              "      <td>0</td>\n",
              "      <td>10</td>\n",
              "      <td>1</td>\n",
              "    </tr>\n",
              "    <tr>\n",
              "      <th>7</th>\n",
              "      <td>60.0</td>\n",
              "      <td>1</td>\n",
              "      <td>315</td>\n",
              "      <td>1</td>\n",
              "      <td>60</td>\n",
              "      <td>0</td>\n",
              "      <td>454000.00</td>\n",
              "      <td>1.1</td>\n",
              "      <td>131</td>\n",
              "      <td>1</td>\n",
              "      <td>1</td>\n",
              "      <td>10</td>\n",
              "      <td>1</td>\n",
              "    </tr>\n",
              "    <tr>\n",
              "      <th>8</th>\n",
              "      <td>65.0</td>\n",
              "      <td>0</td>\n",
              "      <td>157</td>\n",
              "      <td>0</td>\n",
              "      <td>65</td>\n",
              "      <td>0</td>\n",
              "      <td>263358.03</td>\n",
              "      <td>1.5</td>\n",
              "      <td>138</td>\n",
              "      <td>0</td>\n",
              "      <td>0</td>\n",
              "      <td>10</td>\n",
              "      <td>1</td>\n",
              "    </tr>\n",
              "    <tr>\n",
              "      <th>9</th>\n",
              "      <td>80.0</td>\n",
              "      <td>1</td>\n",
              "      <td>123</td>\n",
              "      <td>0</td>\n",
              "      <td>35</td>\n",
              "      <td>1</td>\n",
              "      <td>388000.00</td>\n",
              "      <td>9.4</td>\n",
              "      <td>133</td>\n",
              "      <td>1</td>\n",
              "      <td>1</td>\n",
              "      <td>10</td>\n",
              "      <td>1</td>\n",
              "    </tr>\n",
              "    <tr>\n",
              "      <th>10</th>\n",
              "      <td>75.0</td>\n",
              "      <td>1</td>\n",
              "      <td>81</td>\n",
              "      <td>0</td>\n",
              "      <td>38</td>\n",
              "      <td>1</td>\n",
              "      <td>368000.00</td>\n",
              "      <td>4.0</td>\n",
              "      <td>131</td>\n",
              "      <td>1</td>\n",
              "      <td>1</td>\n",
              "      <td>10</td>\n",
              "      <td>1</td>\n",
              "    </tr>\n",
              "    <tr>\n",
              "      <th>11</th>\n",
              "      <td>62.0</td>\n",
              "      <td>0</td>\n",
              "      <td>231</td>\n",
              "      <td>0</td>\n",
              "      <td>25</td>\n",
              "      <td>1</td>\n",
              "      <td>253000.00</td>\n",
              "      <td>0.9</td>\n",
              "      <td>140</td>\n",
              "      <td>1</td>\n",
              "      <td>1</td>\n",
              "      <td>10</td>\n",
              "      <td>1</td>\n",
              "    </tr>\n",
              "    <tr>\n",
              "      <th>12</th>\n",
              "      <td>45.0</td>\n",
              "      <td>1</td>\n",
              "      <td>981</td>\n",
              "      <td>0</td>\n",
              "      <td>30</td>\n",
              "      <td>0</td>\n",
              "      <td>136000.00</td>\n",
              "      <td>1.1</td>\n",
              "      <td>137</td>\n",
              "      <td>1</td>\n",
              "      <td>0</td>\n",
              "      <td>11</td>\n",
              "      <td>1</td>\n",
              "    </tr>\n",
              "    <tr>\n",
              "      <th>13</th>\n",
              "      <td>50.0</td>\n",
              "      <td>1</td>\n",
              "      <td>168</td>\n",
              "      <td>0</td>\n",
              "      <td>38</td>\n",
              "      <td>1</td>\n",
              "      <td>276000.00</td>\n",
              "      <td>1.1</td>\n",
              "      <td>137</td>\n",
              "      <td>1</td>\n",
              "      <td>0</td>\n",
              "      <td>11</td>\n",
              "      <td>1</td>\n",
              "    </tr>\n",
              "    <tr>\n",
              "      <th>14</th>\n",
              "      <td>49.0</td>\n",
              "      <td>1</td>\n",
              "      <td>80</td>\n",
              "      <td>0</td>\n",
              "      <td>30</td>\n",
              "      <td>1</td>\n",
              "      <td>427000.00</td>\n",
              "      <td>1.0</td>\n",
              "      <td>138</td>\n",
              "      <td>0</td>\n",
              "      <td>0</td>\n",
              "      <td>12</td>\n",
              "      <td>0</td>\n",
              "    </tr>\n",
              "  </tbody>\n",
              "</table>\n",
              "</div>"
            ],
            "text/plain": [
              "     age  anaemia  creatinine_phosphokinase  ...  smoking  time  DEATH_EVENT\n",
              "0   75.0        0                       582  ...        0     4            1\n",
              "1   55.0        0                      7861  ...        0     6            1\n",
              "2   65.0        0                       146  ...        1     7            1\n",
              "3   50.0        1                       111  ...        0     7            1\n",
              "4   65.0        1                       160  ...        0     8            1\n",
              "5   90.0        1                        47  ...        1     8            1\n",
              "6   75.0        1                       246  ...        0    10            1\n",
              "7   60.0        1                       315  ...        1    10            1\n",
              "8   65.0        0                       157  ...        0    10            1\n",
              "9   80.0        1                       123  ...        1    10            1\n",
              "10  75.0        1                        81  ...        1    10            1\n",
              "11  62.0        0                       231  ...        1    10            1\n",
              "12  45.0        1                       981  ...        0    11            1\n",
              "13  50.0        1                       168  ...        0    11            1\n",
              "14  49.0        1                        80  ...        0    12            0\n",
              "\n",
              "[15 rows x 13 columns]"
            ]
          },
          "metadata": {
            "tags": []
          },
          "execution_count": 158
        }
      ]
    },
    {
      "cell_type": "markdown",
      "metadata": {
        "id": "PQEwHWwS7WJO"
      },
      "source": [
        "Ahora llenaremos los datos faltantes, normalizamos los datos y aplicaremos PCA."
      ]
    },
    {
      "cell_type": "markdown",
      "metadata": {
        "id": "rDa1wI7Ztab9"
      },
      "source": [
        "#**PREPROCESAMIENTO Y PCA**"
      ]
    },
    {
      "cell_type": "code",
      "metadata": {
        "colab": {
          "base_uri": "https://localhost:8080/"
        },
        "id": "y3EgfRZjZ1Vn",
        "outputId": "599dc50f-4086-4749-b875-c785da84cbf7"
      },
      "source": [
        "data_1=datos.copy()\n",
        "np.random.seed(0)\n",
        "centers = [[1, 1], [-1, -1], [1, -1]]\n",
        "\n",
        "#ord_enc = preprocessing.LabelEncoder()\n",
        "#encoded = lab_enc.fit_transform(trainingScores)\n",
        "\n",
        "\n",
        "Xo=data_1.drop([\"DEATH_EVENT\",], axis=1)  #Caracteristicas\n",
        "Yo=data_1['DEATH_EVENT']\n",
        "Yi=pd.DataFrame(data_1['DEATH_EVENT'])           #Etiquetas\n",
        "Xo.head(15)\n",
        "\n",
        "#data_normalized=pd.DataFrame(scaler.transform(data_1),columns=data_1.columns)\n",
        "# no vamos a dividir en test y training ya que solo quiero demostrar el uso de PCA en el conjunto\n",
        "# se escalizan los datos.\n",
        "scaler =StandardScaler()# Ejercicio, no use la escalización de los datos a ver que tal funciona, Cambia?\n",
        "scaler.fit(Xo)\n",
        "Xi = scaler.transform(Xo)\n",
        "Xi=pd.DataFrame(scaler.transform(Xo),columns=Xo.columns)\n",
        "\n",
        "pca = decomposition.PCA(n_components=12)\n",
        "pca.fit(Xi)\n",
        "Xn=pca.transform(Xi)\n",
        "Xotrain, Xotest, yotrain, yotest = train_test_split(Xn, Yi, test_size=0.2, random_state=42) \n",
        "\n",
        "\n",
        "print(type(Xn))\n",
        "print(type(Yi))\n"
      ],
      "execution_count": null,
      "outputs": [
        {
          "output_type": "stream",
          "text": [
            "<class 'numpy.ndarray'>\n",
            "<class 'pandas.core.frame.DataFrame'>\n"
          ],
          "name": "stdout"
        }
      ]
    },
    {
      "cell_type": "markdown",
      "metadata": {
        "id": "D-2smKxR2VgP"
      },
      "source": [
        "#Regresión Logistica"
      ]
    },
    {
      "cell_type": "code",
      "metadata": {
        "id": "PcuwWoOG2Tsp"
      },
      "source": [
        "import numpy as np\n",
        "import pandas as pd\n",
        "import matplotlib.pyplot as plt\n",
        "from matplotlib.colors import ListedColormap\n",
        "import matplotlib.patches as mpatches\n",
        "import seaborn as sb\n",
        "\n",
        "from scipy.spatial import distance# por favor buscar la documentacion oficial de la función https://docs.scipy.org/doc/scipy/reference/spatial.distance.html#module-scipy.spatial.distance\n",
        "from sklearn.preprocessing import StandardScaler# por favor buscar la documentacion oficial de la función\n",
        "#https://scikit-learn.org/stable/modules/preprocessing.html\n",
        "%matplotlib inline\n",
        "#https://stackoverflow.com/questions/43027980/purpose-of-matplotlib-inline\n",
        "from sklearn.datasets import make_blobs\n",
        "#https://scikit-learn.org/stable/modules/generated/sklearn.datasets.make_circles.html\n",
        "from sklearn.datasets import make_circles\n",
        "\n",
        "# https://scikit-learn.org/stable/modules/generated/sklearn.datasets.make_blobs.html\n",
        "from sklearn.preprocessing import StandardScaler\n",
        "from sklearn.model_selection import train_test_split\n",
        "\n",
        "from sklearn.linear_model import LogisticRegression\n",
        "#https://scikit-learn.org/stable/modules/generated/sklearn.linear_model.LogisticRegression.html"
      ],
      "execution_count": null,
      "outputs": []
    },
    {
      "cell_type": "code",
      "metadata": {
        "colab": {
          "base_uri": "https://localhost:8080/"
        },
        "id": "fRU_UH0T2eXP",
        "outputId": "284ac9e5-0376-41a3-b397-3314aa3fd1e1"
      },
      "source": [
        "#Entrenamiento\n",
        "LR = LogisticRegression(penalty='l2',solver='lbfgs',max_iter=1000, C=1.0,random_state=None).fit(Xotrain, yotrain)\n",
        "Predicciones= LR.predict(Xotrain)\n",
        "Predicciones1= LR.predict(Xotest)\n",
        "print(Predicciones)\n",
        "print(\"El score obtenido de la regresión logistica es de:\",LR.score(Xotrain,yotrain),\"\\n\")  #Predicciones del conjunto de entrenamiento\n",
        "print(Predicciones1)\n",
        "print(\"El score obtenido de la regresión logistica es de:\",LR.score(Xotest,yotest),\"\\n\\n\")  #Predicciones del conjunto de prueba elejido del archivo train\n",
        "\n"
      ],
      "execution_count": null,
      "outputs": [
        {
          "output_type": "stream",
          "text": [
            "[1 0 0 0 1 1 0 1 0 0 1 1 0 0 0 0 0 1 0 0 0 1 0 0 0 0 1 1 1 0 0 1 0 1 1 1 0\n",
            " 0 1 0 1 1 0 1 0 0 1 0 1 1 0 0 0 0 0 1 0 0 0 1 0 0 0 1 0 1 0 0 1 0 0 0 0 0\n",
            " 0 0 0 1 0 0 0 0 0 0 0 1 1 0 0 0 0 0 0 0 0 1 0 0 0 0 1 1 1 0 0 0 0 1 0 0 0\n",
            " 1 0 0 0 1 0 0 0 1 0 0 0 0 0 0 1 1 1 0 0 0 0 1 0 0 1 0 1 0 1 0 0 0 0 0 0 0\n",
            " 0 0 0 0 0 0 0 0 0 1 0 0 0 0 0 0 0 0 0 0 1 0 0 0 0 1 0 0 0 0 0 0 0 0 0 0 0\n",
            " 0 0 1 1 1 0 1 1 0 1 0 1 0 0 0 1 0 0 0 0 0 1 0 0 1 1 0 0 0 0 0 1 1 0 0 1 0\n",
            " 0 0 0 0 0 0 0 0 0 0 0 1 0 0 0 0 1]\n",
            "El score obtenido de la regresión logistica es de: 0.8702928870292888 \n",
            "\n",
            "[0 0 0 1 0 0 1 0 1 0 0 0 0 0 0 1 0 0 0 0 0 0 0 1 1 0 0 0 0 0 1 0 1 1 1 0 0\n",
            " 0 0 0 1 1 0 0 0 0 0 0 0 0 0 0 1 0 0 0 0 1 0 1]\n",
            "El score obtenido de la regresión logistica es de: 0.8 \n",
            "\n",
            "\n"
          ],
          "name": "stdout"
        },
        {
          "output_type": "stream",
          "text": [
            "/usr/local/lib/python3.7/dist-packages/sklearn/utils/validation.py:760: DataConversionWarning: A column-vector y was passed when a 1d array was expected. Please change the shape of y to (n_samples, ), for example using ravel().\n",
            "  y = column_or_1d(y, warn=True)\n"
          ],
          "name": "stderr"
        }
      ]
    },
    {
      "cell_type": "markdown",
      "metadata": {
        "id": "45hRRP14-ak_"
      },
      "source": [
        "**KNN**"
      ]
    },
    {
      "cell_type": "code",
      "metadata": {
        "id": "-IvZRail-s9M"
      },
      "source": [
        "import numpy as np\n",
        "import pandas as pd\n",
        "import numpy.matlib\n",
        "import time\n",
        "import matplotlib.pyplot as plt\n",
        "from scipy.spatial import distance\n",
        "from sklearn.model_selection import train_test_split\n",
        "from sklearn.preprocessing import StandardScaler\n",
        "from sklearn import datasets\n",
        "from sklearn import svm"
      ],
      "execution_count": null,
      "outputs": []
    },
    {
      "cell_type": "code",
      "metadata": {
        "id": "ZLpm2kh68PHo",
        "colab": {
          "base_uri": "https://localhost:8080/"
        },
        "outputId": "2ceaa474-c123-46a1-a221-3ecf877e1548"
      },
      "source": [
        "from sklearn.neighbors import KNeighborsClassifier\n",
        "from sklearn import metrics\n",
        "k_range=range(1,30)\n",
        "scores={}\n",
        "scores_list=[]\n",
        "for k in k_range:\n",
        "  knn=KNeighborsClassifier(n_neighbors=k)\n",
        "  knn.fit(Xotrain,yotrain)\n",
        "  y_pred=knn.predict(Xotest)\n",
        "  scores[k]=metrics.accuracy_score(yotest,y_pred)\n",
        "  scores_list.append(metrics.accuracy_score(yotest,y_pred))\n",
        "\n",
        "  "
      ],
      "execution_count": null,
      "outputs": [
        {
          "output_type": "stream",
          "text": [
            "/usr/local/lib/python3.7/dist-packages/ipykernel_launcher.py:8: DataConversionWarning: A column-vector y was passed when a 1d array was expected. Please change the shape of y to (n_samples, ), for example using ravel().\n",
            "  \n",
            "/usr/local/lib/python3.7/dist-packages/ipykernel_launcher.py:8: DataConversionWarning: A column-vector y was passed when a 1d array was expected. Please change the shape of y to (n_samples, ), for example using ravel().\n",
            "  \n",
            "/usr/local/lib/python3.7/dist-packages/ipykernel_launcher.py:8: DataConversionWarning: A column-vector y was passed when a 1d array was expected. Please change the shape of y to (n_samples, ), for example using ravel().\n",
            "  \n",
            "/usr/local/lib/python3.7/dist-packages/ipykernel_launcher.py:8: DataConversionWarning: A column-vector y was passed when a 1d array was expected. Please change the shape of y to (n_samples, ), for example using ravel().\n",
            "  \n",
            "/usr/local/lib/python3.7/dist-packages/ipykernel_launcher.py:8: DataConversionWarning: A column-vector y was passed when a 1d array was expected. Please change the shape of y to (n_samples, ), for example using ravel().\n",
            "  \n",
            "/usr/local/lib/python3.7/dist-packages/ipykernel_launcher.py:8: DataConversionWarning: A column-vector y was passed when a 1d array was expected. Please change the shape of y to (n_samples, ), for example using ravel().\n",
            "  \n",
            "/usr/local/lib/python3.7/dist-packages/ipykernel_launcher.py:8: DataConversionWarning: A column-vector y was passed when a 1d array was expected. Please change the shape of y to (n_samples, ), for example using ravel().\n",
            "  \n",
            "/usr/local/lib/python3.7/dist-packages/ipykernel_launcher.py:8: DataConversionWarning: A column-vector y was passed when a 1d array was expected. Please change the shape of y to (n_samples, ), for example using ravel().\n",
            "  \n",
            "/usr/local/lib/python3.7/dist-packages/ipykernel_launcher.py:8: DataConversionWarning: A column-vector y was passed when a 1d array was expected. Please change the shape of y to (n_samples, ), for example using ravel().\n",
            "  \n",
            "/usr/local/lib/python3.7/dist-packages/ipykernel_launcher.py:8: DataConversionWarning: A column-vector y was passed when a 1d array was expected. Please change the shape of y to (n_samples, ), for example using ravel().\n",
            "  \n",
            "/usr/local/lib/python3.7/dist-packages/ipykernel_launcher.py:8: DataConversionWarning: A column-vector y was passed when a 1d array was expected. Please change the shape of y to (n_samples, ), for example using ravel().\n",
            "  \n",
            "/usr/local/lib/python3.7/dist-packages/ipykernel_launcher.py:8: DataConversionWarning: A column-vector y was passed when a 1d array was expected. Please change the shape of y to (n_samples, ), for example using ravel().\n",
            "  \n",
            "/usr/local/lib/python3.7/dist-packages/ipykernel_launcher.py:8: DataConversionWarning: A column-vector y was passed when a 1d array was expected. Please change the shape of y to (n_samples, ), for example using ravel().\n",
            "  \n",
            "/usr/local/lib/python3.7/dist-packages/ipykernel_launcher.py:8: DataConversionWarning: A column-vector y was passed when a 1d array was expected. Please change the shape of y to (n_samples, ), for example using ravel().\n",
            "  \n",
            "/usr/local/lib/python3.7/dist-packages/ipykernel_launcher.py:8: DataConversionWarning: A column-vector y was passed when a 1d array was expected. Please change the shape of y to (n_samples, ), for example using ravel().\n",
            "  \n",
            "/usr/local/lib/python3.7/dist-packages/ipykernel_launcher.py:8: DataConversionWarning: A column-vector y was passed when a 1d array was expected. Please change the shape of y to (n_samples, ), for example using ravel().\n",
            "  \n",
            "/usr/local/lib/python3.7/dist-packages/ipykernel_launcher.py:8: DataConversionWarning: A column-vector y was passed when a 1d array was expected. Please change the shape of y to (n_samples, ), for example using ravel().\n",
            "  \n",
            "/usr/local/lib/python3.7/dist-packages/ipykernel_launcher.py:8: DataConversionWarning: A column-vector y was passed when a 1d array was expected. Please change the shape of y to (n_samples, ), for example using ravel().\n",
            "  \n",
            "/usr/local/lib/python3.7/dist-packages/ipykernel_launcher.py:8: DataConversionWarning: A column-vector y was passed when a 1d array was expected. Please change the shape of y to (n_samples, ), for example using ravel().\n",
            "  \n",
            "/usr/local/lib/python3.7/dist-packages/ipykernel_launcher.py:8: DataConversionWarning: A column-vector y was passed when a 1d array was expected. Please change the shape of y to (n_samples, ), for example using ravel().\n",
            "  \n",
            "/usr/local/lib/python3.7/dist-packages/ipykernel_launcher.py:8: DataConversionWarning: A column-vector y was passed when a 1d array was expected. Please change the shape of y to (n_samples, ), for example using ravel().\n",
            "  \n",
            "/usr/local/lib/python3.7/dist-packages/ipykernel_launcher.py:8: DataConversionWarning: A column-vector y was passed when a 1d array was expected. Please change the shape of y to (n_samples, ), for example using ravel().\n",
            "  \n",
            "/usr/local/lib/python3.7/dist-packages/ipykernel_launcher.py:8: DataConversionWarning: A column-vector y was passed when a 1d array was expected. Please change the shape of y to (n_samples, ), for example using ravel().\n",
            "  \n",
            "/usr/local/lib/python3.7/dist-packages/ipykernel_launcher.py:8: DataConversionWarning: A column-vector y was passed when a 1d array was expected. Please change the shape of y to (n_samples, ), for example using ravel().\n",
            "  \n",
            "/usr/local/lib/python3.7/dist-packages/ipykernel_launcher.py:8: DataConversionWarning: A column-vector y was passed when a 1d array was expected. Please change the shape of y to (n_samples, ), for example using ravel().\n",
            "  \n",
            "/usr/local/lib/python3.7/dist-packages/ipykernel_launcher.py:8: DataConversionWarning: A column-vector y was passed when a 1d array was expected. Please change the shape of y to (n_samples, ), for example using ravel().\n",
            "  \n",
            "/usr/local/lib/python3.7/dist-packages/ipykernel_launcher.py:8: DataConversionWarning: A column-vector y was passed when a 1d array was expected. Please change the shape of y to (n_samples, ), for example using ravel().\n",
            "  \n",
            "/usr/local/lib/python3.7/dist-packages/ipykernel_launcher.py:8: DataConversionWarning: A column-vector y was passed when a 1d array was expected. Please change the shape of y to (n_samples, ), for example using ravel().\n",
            "  \n",
            "/usr/local/lib/python3.7/dist-packages/ipykernel_launcher.py:8: DataConversionWarning: A column-vector y was passed when a 1d array was expected. Please change the shape of y to (n_samples, ), for example using ravel().\n",
            "  \n"
          ],
          "name": "stderr"
        }
      ]
    },
    {
      "cell_type": "code",
      "metadata": {
        "colab": {
          "base_uri": "https://localhost:8080/"
        },
        "id": "VM4Lfu1ABVWG",
        "outputId": "64951309-a3ac-40e1-e133-2deb0c7e0617"
      },
      "source": [
        "!pip install matplotlib-venn"
      ],
      "execution_count": null,
      "outputs": [
        {
          "output_type": "stream",
          "text": [
            "Requirement already satisfied: matplotlib-venn in /usr/local/lib/python3.7/dist-packages (0.11.6)\n",
            "Requirement already satisfied: numpy in /usr/local/lib/python3.7/dist-packages (from matplotlib-venn) (1.19.5)\n",
            "Requirement already satisfied: scipy in /usr/local/lib/python3.7/dist-packages (from matplotlib-venn) (1.4.1)\n",
            "Requirement already satisfied: matplotlib in /usr/local/lib/python3.7/dist-packages (from matplotlib-venn) (3.2.2)\n",
            "Requirement already satisfied: cycler>=0.10 in /usr/local/lib/python3.7/dist-packages (from matplotlib->matplotlib-venn) (0.10.0)\n",
            "Requirement already satisfied: kiwisolver>=1.0.1 in /usr/local/lib/python3.7/dist-packages (from matplotlib->matplotlib-venn) (1.3.1)\n",
            "Requirement already satisfied: python-dateutil>=2.1 in /usr/local/lib/python3.7/dist-packages (from matplotlib->matplotlib-venn) (2.8.1)\n",
            "Requirement already satisfied: pyparsing!=2.0.4,!=2.1.2,!=2.1.6,>=2.0.1 in /usr/local/lib/python3.7/dist-packages (from matplotlib->matplotlib-venn) (2.4.7)\n",
            "Requirement already satisfied: six in /usr/local/lib/python3.7/dist-packages (from cycler>=0.10->matplotlib->matplotlib-venn) (1.15.0)\n"
          ],
          "name": "stdout"
        }
      ]
    },
    {
      "cell_type": "code",
      "metadata": {
        "id": "BRxVCSrV8t4u",
        "colab": {
          "base_uri": "https://localhost:8080/",
          "height": 298
        },
        "outputId": "814ef96a-0a7d-4a00-b734-71deb6460b6b"
      },
      "source": [
        "%matplotlib inline\n",
        "\n",
        "import matplotlib.pyplot as plt\n",
        "plt.plot(k_range,scores_list)\n",
        "plt.xlabel('Values of k for KNN')\n",
        "plt.ylabel('Testing Accuracy')"
      ],
      "execution_count": null,
      "outputs": [
        {
          "output_type": "execute_result",
          "data": {
            "text/plain": [
              "Text(0, 0.5, 'Testing Accuracy')"
            ]
          },
          "metadata": {
            "tags": []
          },
          "execution_count": 212
        },
        {
          "output_type": "display_data",
          "data": {
            "image/png": "[encoded data removed]",
            "text/plain": [
              "<Figure size 432x288 with 1 Axes>"
            ]
          },
          "metadata": {
            "tags": [],
            "needs_background": "light"
          }
        }
      ]
    },
    {
      "cell_type": "code",
      "metadata": {
        "colab": {
          "base_uri": "https://localhost:8080/"
        },
        "id": "iCW3W0DKB0OQ",
        "outputId": "cf69cb85-33cc-4c95-b55f-cb353b8a8151"
      },
      "source": [
        "n_neighbors = 3\n",
        "knn=KNeighborsClassifier(n_neighbors)\n",
        "knn.fit(Xotrain,yotrain)\n",
        "print('Accuracy of K-NN Classifier on the training set:{:.2f}'.format(knn.score(\n",
        "Xotrain, yotrain)))\n",
        "print('Accuracy of K-NN Classifier on the test set:{:.2f}'.format(knn.score(\n",
        "Xotest, yotest)))   "
      ],
      "execution_count": null,
      "outputs": [
        {
          "output_type": "stream",
          "text": [
            "Accuracy of K-NN Classifier on the training set:0.82\n",
            "Accuracy of K-NN Classifier on the test set:0.72\n"
          ],
          "name": "stdout"
        },
        {
          "output_type": "stream",
          "text": [
            "/usr/local/lib/python3.7/dist-packages/ipykernel_launcher.py:3: DataConversionWarning: A column-vector y was passed when a 1d array was expected. Please change the shape of y to (n_samples, ), for example using ravel().\n",
            "  This is separate from the ipykernel package so we can avoid doing imports until\n"
          ],
          "name": "stderr"
        }
      ]
    },
    {
      "cell_type": "markdown",
      "metadata": {
        "id": "d-oJFjud-duA"
      },
      "source": [
        "**SVM**"
      ]
    },
    {
      "cell_type": "code",
      "metadata": {
        "id": "XkjF-HZ_jxEA"
      },
      "source": [
        "from sklearn import svm\n",
        "from sklearn.metrics import matthews_corrcoef"
      ],
      "execution_count": null,
      "outputs": []
    },
    {
      "cell_type": "code",
      "metadata": {
        "colab": {
          "base_uri": "https://localhost:8080/",
          "height": 459
        },
        "id": "4lJDALjS-nDF",
        "outputId": "2b9b8f78-b922-408b-8c32-f5586dcdaf7b"
      },
      "source": [
        "#VARIACIÓN DE LOS KERNELS DE SVM\n",
        "kernels =['linear', 'poly', 'rbf', 'sigmoid']  #Observaremos el mejor SCORE segun el kernel establecido\n",
        "scores = []\n",
        "scorestrain= []\n",
        "\n",
        "for i in kernels:\n",
        "    msv = svm.SVC(kernel = i)\n",
        "    msv.fit(Xotrain, yotrain)\n",
        "    #knn = KNeighborsClassifier(n_neighbors=7,weights=i ,metric=distance, metric_params=None,algorithm='brute')\n",
        "    #knn.fit(Xtrain, ytrain)\n",
        "    scores.append(msv.score(Xotest, yotest))\n",
        "    scorestrain.append(msv.score(Xotrain, yotrain))\n",
        "    \n",
        "plt.figure()\n",
        "plt.xlabel('k')\n",
        "plt.ylabel('SCORE del train [Azul] y test [Naranja]')\n",
        "plt.scatter(kernels, scorestrain)\n",
        "plt.scatter(kernels, scores)\n",
        "\n"
      ],
      "execution_count": null,
      "outputs": [
        {
          "output_type": "stream",
          "text": [
            "/usr/local/lib/python3.7/dist-packages/sklearn/utils/validation.py:760: DataConversionWarning: A column-vector y was passed when a 1d array was expected. Please change the shape of y to (n_samples, ), for example using ravel().\n",
            "  y = column_or_1d(y, warn=True)\n",
            "/usr/local/lib/python3.7/dist-packages/sklearn/utils/validation.py:760: DataConversionWarning: A column-vector y was passed when a 1d array was expected. Please change the shape of y to (n_samples, ), for example using ravel().\n",
            "  y = column_or_1d(y, warn=True)\n",
            "/usr/local/lib/python3.7/dist-packages/sklearn/utils/validation.py:760: DataConversionWarning: A column-vector y was passed when a 1d array was expected. Please change the shape of y to (n_samples, ), for example using ravel().\n",
            "  y = column_or_1d(y, warn=True)\n",
            "/usr/local/lib/python3.7/dist-packages/sklearn/utils/validation.py:760: DataConversionWarning: A column-vector y was passed when a 1d array was expected. Please change the shape of y to (n_samples, ), for example using ravel().\n",
            "  y = column_or_1d(y, warn=True)\n"
          ],
          "name": "stderr"
        },
        {
          "output_type": "execute_result",
          "data": {
            "text/plain": [
              "<matplotlib.collections.PathCollection at 0x7f4a34290e10>"
            ]
          },
          "metadata": {
            "tags": []
          },
          "execution_count": 215
        },
        {
          "output_type": "display_data",
          "data": {
            "image/png": "[encoded data removed]",
            "text/plain": [
              "<Figure size 432x288 with 1 Axes>"
            ]
          },
          "metadata": {
            "tags": [],
            "needs_background": "light"
          }
        }
      ]
    },
    {
      "cell_type": "code",
      "metadata": {
        "colab": {
          "base_uri": "https://localhost:8080/"
        },
        "id": "1Ip0I4FB_BOW",
        "outputId": "474dc726-34d5-415f-ccb3-1a5e71642d00"
      },
      "source": [
        "msv = svm.SVC(kernel='poly')\n",
        "msv.fit(Xotrain, yotrain)\n",
        "\n",
        "\n",
        "print('Score de SVM en los datos de train de entrenamiento set: {:.2f}'\n",
        "    .format(msv.score(Xotrain, yotrain)))\n",
        "print('Accuracy de SVM en los datos de train de prueba: {:.2f}'\n",
        "    .format(msv.score(Xotest, yotest)), \"\\n\")\n",
        "\n",
        "#Predisvmtest= msv.predict(X_Realtest)\n",
        "#print(\"Las predicciones obtenidas del archivo de test con SVM son las siguientes: \\n\", Predisvmtest,\"\\n\")"
      ],
      "execution_count": null,
      "outputs": [
        {
          "output_type": "stream",
          "text": [
            "Score de SVM en los datos de train de entrenamiento set: 0.90\n",
            "Accuracy de SVM en los datos de train de prueba: 0.68 \n",
            "\n"
          ],
          "name": "stdout"
        },
        {
          "output_type": "stream",
          "text": [
            "/usr/local/lib/python3.7/dist-packages/sklearn/utils/validation.py:760: DataConversionWarning: A column-vector y was passed when a 1d array was expected. Please change the shape of y to (n_samples, ), for example using ravel().\n",
            "  y = column_or_1d(y, warn=True)\n"
          ],
          "name": "stderr"
        }
      ]
    },
    {
      "cell_type": "markdown",
      "metadata": {
        "id": "SHnVJYcD8SCJ"
      },
      "source": [
        "Gausiana"
      ]
    },
    {
      "cell_type": "code",
      "metadata": {
        "id": "Xt7G-3S_Z0DS",
        "colab": {
          "base_uri": "https://localhost:8080/"
        },
        "outputId": "8a2ad163-50de-41f4-b631-683574249f31"
      },
      "source": [
        "# Training\n",
        "from sklearn.naive_bayes import GaussianNB\n",
        "classifier = GaussianNB()\n",
        "classifier.fit(Xotrain, yotrain)\n",
        "\n",
        "# Prediccion de resultados\n",
        "y_pred = classifier.predict(Xotest)\n",
        "y_pred1 = classifier.predict(Xotrain)\n",
        "# Matriz de confusion\n",
        "from sklearn.metrics import confusion_matrix, accuracy_score\n",
        "ac = accuracy_score(yotest,y_pred)\n",
        "act = accuracy_score(yotrain, y_pred1)\n",
        "cm = confusion_matrix(yotest, y_pred)\n",
        "print(ac)\n",
        "print(act)"
      ],
      "execution_count": null,
      "outputs": [
        {
          "output_type": "stream",
          "text": [
            "0.7\n",
            "0.8368200836820083\n"
          ],
          "name": "stdout"
        },
        {
          "output_type": "stream",
          "text": [
            "/usr/local/lib/python3.7/dist-packages/sklearn/naive_bayes.py:206: DataConversionWarning: A column-vector y was passed when a 1d array was expected. Please change the shape of y to (n_samples, ), for example using ravel().\n",
            "  y = column_or_1d(y, warn=True)\n"
          ],
          "name": "stderr"
        }
      ]
    },
    {
      "cell_type": "code",
      "metadata": {
        "id": "UC2qRT-vbZv_"
      },
      "source": [
        "from sklearn.tree import DecisionTreeClassifier\n",
        "from sklearn import tree\n",
        "from sklearn import metrics\n",
        "dtc_1 = DecisionTreeClassifier()\n",
        "dtc_1 = dtc_1.fit(Xotrain, yotrain)\n",
        "prediction_dtc_1 = dtc_1.predict(Xotest)"
      ],
      "execution_count": null,
      "outputs": []
    },
    {
      "cell_type": "code",
      "metadata": {
        "colab": {
          "base_uri": "https://localhost:8080/",
          "height": 284
        },
        "id": "d7rC-5AKcu43",
        "outputId": "abc4dfa6-5a7b-4085-8acc-f815db8cbb6d"
      },
      "source": [
        "from sklearn.metrics import classification_report, confusion_matrix\n",
        "print(confusion_matrix(yotest, prediction_dtc_1))\n",
        "tree.plot_tree(dtc_1);"
      ],
      "execution_count": null,
      "outputs": [
        {
          "output_type": "stream",
          "text": [
            "[[27  8]\n",
            " [16  9]]\n"
          ],
          "name": "stdout"
        },
        {
          "output_type": "display_data",
          "data": {
            "image/png": "[encoded data removed]",
            "text/plain": [
              "<Figure size 432x288 with 1 Axes>"
            ]
          },
          "metadata": {
            "tags": [],
            "needs_background": "light"
          }
        }
      ]
    },
    {
      "cell_type": "code",
      "metadata": {
        "id": "qiOK8NDOwzD-"
      },
      "source": [
        "import graphviz \n",
        "\n",
        "dot_data = tree.export_graphviz(dtc_1, out_file=None,feature_names=Xo.columns,  \n",
        "                     filled=True, rounded=True,  \n",
        "                     special_characters=True) \n",
        "\n",
        "graph = graphviz.Source(dot_data) \n"
      ],
      "execution_count": null,
      "outputs": []
    },
    {
      "cell_type": "code",
      "metadata": {
        "colab": {
          "base_uri": "https://localhost:8080/",
          "height": 1000
        },
        "id": "yO7QfDP7xjLl",
        "outputId": "54070c0b-e684-4493-b6c6-1a13995831e2"
      },
      "source": [
        "graph"
      ],
      "execution_count": null,
      "outputs": [
        {
          "output_type": "execute_result",
          "data": {
            "text/plain": [
              "<graphviz.files.Source at 0x7f4a342d3090>"
            ],
            "image/svg+xml": "<?xml version=\"1.0\" encoding=\"UTF-8\" standalone=\"no\"?>\n<!DOCTYPE svg PUBLIC \"-//W3C//DTD SVG 1.1//EN\"\n \"http://www.w3.org/Graphics/SVG/1.1/DTD/svg11.dtd\">\n<!-- Generated by graphviz version 2.40.1 (20161225.0304)\n -->\n<!-- Title: Tree Pages: 1 -->\n<svg width=\"2335pt\" height=\"893pt\"\n viewBox=\"0.00 0.00 2335.00 893.00\" xmlns=\"http://www.w3.org/2000/svg\" xmlns:xlink=\"http://www.w3.org/1999/xlink\">\n<g id=\"graph0\" class=\"graph\" transform=\"scale(1 1) rotate(0) translate(4 889)\">\n<title>Tree</title>\n<polygon fill=\"#ffffff\" stroke=\"transparent\" points=\"-4,4 -4,-889 2331,-889 2331,4 -4,4\"/>\n<!-- 0 -->\n<g id=\"node1\" class=\"node\">\n<title>0</title>\n<path fill=\"#f0b68d\" stroke=\"#000000\" d=\"M1554,-885C1554,-885 1453,-885 1453,-885 1447,-885 1441,-879 1441,-873 1441,-873 1441,-829 1441,-829 1441,-823 1447,-817 1453,-817 1453,-817 1554,-817 1554,-817 1560,-817 1566,-823 1566,-829 1566,-829 1566,-873 1566,-873 1566,-879 1560,-885 1554,-885\"/>\n<text text-anchor=\"start\" x=\"1449\" y=\"-869.8\" font-family=\"Helvetica,sans-Serif\" font-size=\"14.00\" fill=\"#000000\">anaemia ≤ 0.772</text>\n<text text-anchor=\"start\" x=\"1465.5\" y=\"-854.8\" font-family=\"Helvetica,sans-Serif\" font-size=\"14.00\" fill=\"#000000\">gini = 0.418</text>\n<text text-anchor=\"start\" x=\"1455.5\" y=\"-839.8\" font-family=\"Helvetica,sans-Serif\" font-size=\"14.00\" fill=\"#000000\">samples = 239</text>\n<text text-anchor=\"start\" x=\"1449.5\" y=\"-824.8\" font-family=\"Helvetica,sans-Serif\" font-size=\"14.00\" fill=\"#000000\">value = [168, 71]</text>\n</g>\n<!-- 1 -->\n<g id=\"node2\" class=\"node\">\n<title>1</title>\n<path fill=\"#ea995e\" stroke=\"#000000\" d=\"M1388,-781C1388,-781 1173,-781 1173,-781 1167,-781 1161,-775 1161,-769 1161,-769 1161,-725 1161,-725 1161,-719 1167,-713 1173,-713 1173,-713 1388,-713 1388,-713 1394,-713 1400,-719 1400,-725 1400,-725 1400,-769 1400,-769 1400,-775 1394,-781 1388,-781\"/>\n<text text-anchor=\"start\" x=\"1169\" y=\"-765.8\" font-family=\"Helvetica,sans-Serif\" font-size=\"14.00\" fill=\"#000000\">creatinine_phosphokinase ≤ 0.281</text>\n<text text-anchor=\"start\" x=\"1242.5\" y=\"-750.8\" font-family=\"Helvetica,sans-Serif\" font-size=\"14.00\" fill=\"#000000\">gini = 0.266</text>\n<text text-anchor=\"start\" x=\"1232.5\" y=\"-735.8\" font-family=\"Helvetica,sans-Serif\" font-size=\"14.00\" fill=\"#000000\">samples = 177</text>\n<text text-anchor=\"start\" x=\"1226.5\" y=\"-720.8\" font-family=\"Helvetica,sans-Serif\" font-size=\"14.00\" fill=\"#000000\">value = [149, 28]</text>\n</g>\n<!-- 0&#45;&gt;1 -->\n<g id=\"edge1\" class=\"edge\">\n<title>0&#45;&gt;1</title>\n<path fill=\"none\" stroke=\"#000000\" d=\"M1440.7886,-821.7534C1416.6945,-810.5167 1388.8143,-797.5143 1363.1292,-785.5356\"/>\n<polygon fill=\"#000000\" stroke=\"#000000\" points=\"1364.3189,-782.2286 1353.7767,-781.1739 1361.3603,-788.5726 1364.3189,-782.2286\"/>\n<text text-anchor=\"middle\" x=\"1362.3261\" y=\"-800.9666\" font-family=\"Helvetica,sans-Serif\" font-size=\"14.00\" fill=\"#000000\">True</text>\n</g>\n<!-- 40 -->\n<g id=\"node41\" class=\"node\">\n<title>40</title>\n<path fill=\"#90c8f0\" stroke=\"#000000\" d=\"M1697.5,-781C1697.5,-781 1593.5,-781 1593.5,-781 1587.5,-781 1581.5,-775 1581.5,-769 1581.5,-769 1581.5,-725 1581.5,-725 1581.5,-719 1587.5,-713 1593.5,-713 1593.5,-713 1697.5,-713 1697.5,-713 1703.5,-713 1709.5,-719 1709.5,-725 1709.5,-725 1709.5,-769 1709.5,-769 1709.5,-775 1703.5,-781 1697.5,-781\"/>\n<text text-anchor=\"start\" x=\"1589.5\" y=\"-765.8\" font-family=\"Helvetica,sans-Serif\" font-size=\"14.00\" fill=\"#000000\">smoking ≤ &#45;0.711</text>\n<text text-anchor=\"start\" x=\"1607.5\" y=\"-750.8\" font-family=\"Helvetica,sans-Serif\" font-size=\"14.00\" fill=\"#000000\">gini = 0.425</text>\n<text text-anchor=\"start\" x=\"1601.5\" y=\"-735.8\" font-family=\"Helvetica,sans-Serif\" font-size=\"14.00\" fill=\"#000000\">samples = 62</text>\n<text text-anchor=\"start\" x=\"1595.5\" y=\"-720.8\" font-family=\"Helvetica,sans-Serif\" font-size=\"14.00\" fill=\"#000000\">value = [19, 43]</text>\n</g>\n<!-- 0&#45;&gt;40 -->\n<g id=\"edge40\" class=\"edge\">\n<title>0&#45;&gt;40</title>\n<path fill=\"none\" stroke=\"#000000\" d=\"M1549.9961,-816.9465C1562.9908,-807.4293 1577.2337,-796.9978 1590.6621,-787.163\"/>\n<polygon fill=\"#000000\" stroke=\"#000000\" points=\"1592.8998,-789.8624 1598.8994,-781.13 1588.7637,-784.2151 1592.8998,-789.8624\"/>\n<text text-anchor=\"middle\" x=\"1595.0829\" y=\"-802.137\" font-family=\"Helvetica,sans-Serif\" font-size=\"14.00\" fill=\"#000000\">False</text>\n</g>\n<!-- 2 -->\n<g id=\"node3\" class=\"node\">\n<title>2</title>\n<path fill=\"#e78946\" stroke=\"#000000\" d=\"M870,-677C870,-677 771,-677 771,-677 765,-677 759,-671 759,-665 759,-665 759,-621 759,-621 759,-615 765,-609 771,-609 771,-609 870,-609 870,-609 876,-609 882,-615 882,-621 882,-621 882,-665 882,-665 882,-671 876,-677 870,-677\"/>\n<text text-anchor=\"start\" x=\"767\" y=\"-661.8\" font-family=\"Helvetica,sans-Serif\" font-size=\"14.00\" fill=\"#000000\">smoking ≤ 1.572</text>\n<text text-anchor=\"start\" x=\"782.5\" y=\"-646.8\" font-family=\"Helvetica,sans-Serif\" font-size=\"14.00\" fill=\"#000000\">gini = 0.116</text>\n<text text-anchor=\"start\" x=\"772.5\" y=\"-631.8\" font-family=\"Helvetica,sans-Serif\" font-size=\"14.00\" fill=\"#000000\">samples = 113</text>\n<text text-anchor=\"start\" x=\"770.5\" y=\"-616.8\" font-family=\"Helvetica,sans-Serif\" font-size=\"14.00\" fill=\"#000000\">value = [106, 7]</text>\n</g>\n<!-- 1&#45;&gt;2 -->\n<g id=\"edge2\" class=\"edge\">\n<title>1&#45;&gt;2</title>\n<path fill=\"none\" stroke=\"#000000\" d=\"M1160.8412,-719.9467C1075.5422,-700.6617 963.7075,-675.3774 891.9605,-659.1563\"/>\n<polygon fill=\"#000000\" stroke=\"#000000\" points=\"892.6354,-655.7206 882.1097,-656.9291 891.0917,-662.5483 892.6354,-655.7206\"/>\n</g>\n<!-- 17 -->\n<g id=\"node18\" class=\"node\">\n<title>17</title>\n<path fill=\"#f2bf9a\" stroke=\"#000000\" d=\"M1333,-677C1333,-677 1228,-677 1228,-677 1222,-677 1216,-671 1216,-665 1216,-665 1216,-621 1216,-621 1216,-615 1222,-609 1228,-609 1228,-609 1333,-609 1333,-609 1339,-609 1345,-615 1345,-621 1345,-621 1345,-665 1345,-665 1345,-671 1339,-677 1333,-677\"/>\n<text text-anchor=\"start\" x=\"1224\" y=\"-661.8\" font-family=\"Helvetica,sans-Serif\" font-size=\"14.00\" fill=\"#000000\">anaemia ≤ &#45;0.169</text>\n<text text-anchor=\"start\" x=\"1242.5\" y=\"-646.8\" font-family=\"Helvetica,sans-Serif\" font-size=\"14.00\" fill=\"#000000\">gini = 0.441</text>\n<text text-anchor=\"start\" x=\"1236.5\" y=\"-631.8\" font-family=\"Helvetica,sans-Serif\" font-size=\"14.00\" fill=\"#000000\">samples = 64</text>\n<text text-anchor=\"start\" x=\"1230.5\" y=\"-616.8\" font-family=\"Helvetica,sans-Serif\" font-size=\"14.00\" fill=\"#000000\">value = [43, 21]</text>\n</g>\n<!-- 1&#45;&gt;17 -->\n<g id=\"edge17\" class=\"edge\">\n<title>1&#45;&gt;17</title>\n<path fill=\"none\" stroke=\"#000000\" d=\"M1280.5,-712.9465C1280.5,-704.776 1280.5,-695.9318 1280.5,-687.3697\"/>\n<polygon fill=\"#000000\" stroke=\"#000000\" points=\"1284.0001,-687.13 1280.5,-677.13 1277.0001,-687.13 1284.0001,-687.13\"/>\n</g>\n<!-- 3 -->\n<g id=\"node4\" class=\"node\">\n<title>3</title>\n<path fill=\"#e68742\" stroke=\"#000000\" d=\"M534,-573C534,-573 379,-573 379,-573 373,-573 367,-567 367,-561 367,-561 367,-517 367,-517 367,-511 373,-505 379,-505 379,-505 534,-505 534,-505 540,-505 546,-511 546,-517 546,-517 546,-561 546,-561 546,-567 540,-573 534,-573\"/>\n<text text-anchor=\"start\" x=\"375\" y=\"-557.8\" font-family=\"Helvetica,sans-Serif\" font-size=\"14.00\" fill=\"#000000\">ejection_fraction ≤ &#45;1.475</text>\n<text text-anchor=\"start\" x=\"418.5\" y=\"-542.8\" font-family=\"Helvetica,sans-Serif\" font-size=\"14.00\" fill=\"#000000\">gini = 0.086</text>\n<text text-anchor=\"start\" x=\"408.5\" y=\"-527.8\" font-family=\"Helvetica,sans-Serif\" font-size=\"14.00\" fill=\"#000000\">samples = 111</text>\n<text text-anchor=\"start\" x=\"406.5\" y=\"-512.8\" font-family=\"Helvetica,sans-Serif\" font-size=\"14.00\" fill=\"#000000\">value = [106, 5]</text>\n</g>\n<!-- 2&#45;&gt;3 -->\n<g id=\"edge3\" class=\"edge\">\n<title>2&#45;&gt;3</title>\n<path fill=\"none\" stroke=\"#000000\" d=\"M758.7524,-625.3578C703.2851,-609.51 620.8455,-585.9559 556.0687,-567.4482\"/>\n<polygon fill=\"#000000\" stroke=\"#000000\" points=\"556.8153,-564.0215 546.2385,-564.6396 554.8922,-570.7522 556.8153,-564.0215\"/>\n</g>\n<!-- 16 -->\n<g id=\"node17\" class=\"node\">\n<title>16</title>\n<path fill=\"#399de5\" stroke=\"#000000\" d=\"M858,-565.5C858,-565.5 783,-565.5 783,-565.5 777,-565.5 771,-559.5 771,-553.5 771,-553.5 771,-524.5 771,-524.5 771,-518.5 777,-512.5 783,-512.5 783,-512.5 858,-512.5 858,-512.5 864,-512.5 870,-518.5 870,-524.5 870,-524.5 870,-553.5 870,-553.5 870,-559.5 864,-565.5 858,-565.5\"/>\n<text text-anchor=\"start\" x=\"791\" y=\"-550.3\" font-family=\"Helvetica,sans-Serif\" font-size=\"14.00\" fill=\"#000000\">gini = 0.0</text>\n<text text-anchor=\"start\" x=\"781\" y=\"-535.3\" font-family=\"Helvetica,sans-Serif\" font-size=\"14.00\" fill=\"#000000\">samples = 2</text>\n<text text-anchor=\"start\" x=\"779\" y=\"-520.3\" font-family=\"Helvetica,sans-Serif\" font-size=\"14.00\" fill=\"#000000\">value = [0, 2]</text>\n</g>\n<!-- 2&#45;&gt;16 -->\n<g id=\"edge16\" class=\"edge\">\n<title>2&#45;&gt;16</title>\n<path fill=\"none\" stroke=\"#000000\" d=\"M820.5,-608.9465C820.5,-598.2621 820.5,-586.4254 820.5,-575.5742\"/>\n<polygon fill=\"#000000\" stroke=\"#000000\" points=\"824.0001,-575.5421 820.5,-565.5422 817.0001,-575.5422 824.0001,-575.5421\"/>\n</g>\n<!-- 4 -->\n<g id=\"node5\" class=\"node\">\n<title>4</title>\n<path fill=\"#ffffff\" stroke=\"#000000\" d=\"M216.5,-469C216.5,-469 116.5,-469 116.5,-469 110.5,-469 104.5,-463 104.5,-457 104.5,-457 104.5,-413 104.5,-413 104.5,-407 110.5,-401 116.5,-401 116.5,-401 216.5,-401 216.5,-401 222.5,-401 228.5,-407 228.5,-413 228.5,-413 228.5,-457 228.5,-457 228.5,-463 222.5,-469 216.5,-469\"/>\n<text text-anchor=\"start\" x=\"112.5\" y=\"-453.8\" font-family=\"Helvetica,sans-Serif\" font-size=\"14.00\" fill=\"#000000\">diabetes ≤ 1.306</text>\n<text text-anchor=\"start\" x=\"137\" y=\"-438.8\" font-family=\"Helvetica,sans-Serif\" font-size=\"14.00\" fill=\"#000000\">gini = 0.5</text>\n<text text-anchor=\"start\" x=\"127\" y=\"-423.8\" font-family=\"Helvetica,sans-Serif\" font-size=\"14.00\" fill=\"#000000\">samples = 4</text>\n<text text-anchor=\"start\" x=\"125\" y=\"-408.8\" font-family=\"Helvetica,sans-Serif\" font-size=\"14.00\" fill=\"#000000\">value = [2, 2]</text>\n</g>\n<!-- 3&#45;&gt;4 -->\n<g id=\"edge4\" class=\"edge\">\n<title>3&#45;&gt;4</title>\n<path fill=\"none\" stroke=\"#000000\" d=\"M366.7282,-506.806C325.4766,-492.0123 277.2135,-474.7041 238.4081,-460.7877\"/>\n<polygon fill=\"#000000\" stroke=\"#000000\" points=\"239.3506,-457.4075 228.7561,-457.3263 236.9876,-463.9966 239.3506,-457.4075\"/>\n</g>\n<!-- 7 -->\n<g id=\"node8\" class=\"node\">\n<title>7</title>\n<path fill=\"#e6853f\" stroke=\"#000000\" d=\"M537,-469C537,-469 376,-469 376,-469 370,-469 364,-463 364,-457 364,-457 364,-413 364,-413 364,-407 370,-401 376,-401 376,-401 537,-401 537,-401 543,-401 549,-407 549,-413 549,-413 549,-457 549,-457 549,-463 543,-469 537,-469\"/>\n<text text-anchor=\"start\" x=\"372\" y=\"-453.8\" font-family=\"Helvetica,sans-Serif\" font-size=\"14.00\" fill=\"#000000\">serum_creatinine ≤ &#45;1.622</text>\n<text text-anchor=\"start\" x=\"418.5\" y=\"-438.8\" font-family=\"Helvetica,sans-Serif\" font-size=\"14.00\" fill=\"#000000\">gini = 0.055</text>\n<text text-anchor=\"start\" x=\"408.5\" y=\"-423.8\" font-family=\"Helvetica,sans-Serif\" font-size=\"14.00\" fill=\"#000000\">samples = 107</text>\n<text text-anchor=\"start\" x=\"406.5\" y=\"-408.8\" font-family=\"Helvetica,sans-Serif\" font-size=\"14.00\" fill=\"#000000\">value = [104, 3]</text>\n</g>\n<!-- 3&#45;&gt;7 -->\n<g id=\"edge7\" class=\"edge\">\n<title>3&#45;&gt;7</title>\n<path fill=\"none\" stroke=\"#000000\" d=\"M456.5,-504.9465C456.5,-496.776 456.5,-487.9318 456.5,-479.3697\"/>\n<polygon fill=\"#000000\" stroke=\"#000000\" points=\"460.0001,-479.13 456.5,-469.13 453.0001,-479.13 460.0001,-479.13\"/>\n</g>\n<!-- 5 -->\n<g id=\"node6\" class=\"node\">\n<title>5</title>\n<path fill=\"#e58139\" stroke=\"#000000\" d=\"M87,-357.5C87,-357.5 12,-357.5 12,-357.5 6,-357.5 0,-351.5 0,-345.5 0,-345.5 0,-316.5 0,-316.5 0,-310.5 6,-304.5 12,-304.5 12,-304.5 87,-304.5 87,-304.5 93,-304.5 99,-310.5 99,-316.5 99,-316.5 99,-345.5 99,-345.5 99,-351.5 93,-357.5 87,-357.5\"/>\n<text text-anchor=\"start\" x=\"20\" y=\"-342.3\" font-family=\"Helvetica,sans-Serif\" font-size=\"14.00\" fill=\"#000000\">gini = 0.0</text>\n<text text-anchor=\"start\" x=\"10\" y=\"-327.3\" font-family=\"Helvetica,sans-Serif\" font-size=\"14.00\" fill=\"#000000\">samples = 2</text>\n<text text-anchor=\"start\" x=\"8\" y=\"-312.3\" font-family=\"Helvetica,sans-Serif\" font-size=\"14.00\" fill=\"#000000\">value = [2, 0]</text>\n</g>\n<!-- 4&#45;&gt;5 -->\n<g id=\"edge5\" class=\"edge\">\n<title>4&#45;&gt;5</title>\n<path fill=\"none\" stroke=\"#000000\" d=\"M128.1898,-400.9465C114.9306,-389.1606 100.0942,-375.9726 86.9084,-364.2519\"/>\n<polygon fill=\"#000000\" stroke=\"#000000\" points=\"89.1593,-361.5699 79.3599,-357.5422 84.5088,-366.8018 89.1593,-361.5699\"/>\n</g>\n<!-- 6 -->\n<g id=\"node7\" class=\"node\">\n<title>6</title>\n<path fill=\"#399de5\" stroke=\"#000000\" d=\"M204,-357.5C204,-357.5 129,-357.5 129,-357.5 123,-357.5 117,-351.5 117,-345.5 117,-345.5 117,-316.5 117,-316.5 117,-310.5 123,-304.5 129,-304.5 129,-304.5 204,-304.5 204,-304.5 210,-304.5 216,-310.5 216,-316.5 216,-316.5 216,-345.5 216,-345.5 216,-351.5 210,-357.5 204,-357.5\"/>\n<text text-anchor=\"start\" x=\"137\" y=\"-342.3\" font-family=\"Helvetica,sans-Serif\" font-size=\"14.00\" fill=\"#000000\">gini = 0.0</text>\n<text text-anchor=\"start\" x=\"127\" y=\"-327.3\" font-family=\"Helvetica,sans-Serif\" font-size=\"14.00\" fill=\"#000000\">samples = 2</text>\n<text text-anchor=\"start\" x=\"125\" y=\"-312.3\" font-family=\"Helvetica,sans-Serif\" font-size=\"14.00\" fill=\"#000000\">value = [0, 2]</text>\n</g>\n<!-- 4&#45;&gt;6 -->\n<g id=\"edge6\" class=\"edge\">\n<title>4&#45;&gt;6</title>\n<path fill=\"none\" stroke=\"#000000\" d=\"M166.5,-400.9465C166.5,-390.2621 166.5,-378.4254 166.5,-367.5742\"/>\n<polygon fill=\"#000000\" stroke=\"#000000\" points=\"170.0001,-367.5421 166.5,-357.5422 163.0001,-367.5422 170.0001,-367.5421\"/>\n</g>\n<!-- 8 -->\n<g id=\"node9\" class=\"node\">\n<title>8</title>\n<path fill=\"#f6d5bd\" stroke=\"#000000\" d=\"M466.5,-365C466.5,-365 246.5,-365 246.5,-365 240.5,-365 234.5,-359 234.5,-353 234.5,-353 234.5,-309 234.5,-309 234.5,-303 240.5,-297 246.5,-297 246.5,-297 466.5,-297 466.5,-297 472.5,-297 478.5,-303 478.5,-309 478.5,-309 478.5,-353 478.5,-353 478.5,-359 472.5,-365 466.5,-365\"/>\n<text text-anchor=\"start\" x=\"242.5\" y=\"-349.8\" font-family=\"Helvetica,sans-Serif\" font-size=\"14.00\" fill=\"#000000\">creatinine_phosphokinase ≤ &#45;0.507</text>\n<text text-anchor=\"start\" x=\"323\" y=\"-334.8\" font-family=\"Helvetica,sans-Serif\" font-size=\"14.00\" fill=\"#000000\">gini = 0.48</text>\n<text text-anchor=\"start\" x=\"317\" y=\"-319.8\" font-family=\"Helvetica,sans-Serif\" font-size=\"14.00\" fill=\"#000000\">samples = 5</text>\n<text text-anchor=\"start\" x=\"315\" y=\"-304.8\" font-family=\"Helvetica,sans-Serif\" font-size=\"14.00\" fill=\"#000000\">value = [3, 2]</text>\n</g>\n<!-- 7&#45;&gt;8 -->\n<g id=\"edge8\" class=\"edge\">\n<title>7&#45;&gt;8</title>\n<path fill=\"none\" stroke=\"#000000\" d=\"M423.7563,-400.9465C415.0367,-391.8782 405.5191,-381.9799 396.4601,-372.5585\"/>\n<polygon fill=\"#000000\" stroke=\"#000000\" points=\"398.7713,-369.9125 389.3173,-365.13 393.7255,-374.7642 398.7713,-369.9125\"/>\n</g>\n<!-- 11 -->\n<g id=\"node12\" class=\"node\">\n<title>11</title>\n<path fill=\"#e5823b\" stroke=\"#000000\" d=\"M606.5,-365C606.5,-365 508.5,-365 508.5,-365 502.5,-365 496.5,-359 496.5,-353 496.5,-353 496.5,-309 496.5,-309 496.5,-303 502.5,-297 508.5,-297 508.5,-297 606.5,-297 606.5,-297 612.5,-297 618.5,-303 618.5,-309 618.5,-309 618.5,-353 618.5,-353 618.5,-359 612.5,-365 606.5,-365\"/>\n<text text-anchor=\"start\" x=\"504.5\" y=\"-349.8\" font-family=\"Helvetica,sans-Serif\" font-size=\"14.00\" fill=\"#000000\">platelets ≤ 1.604</text>\n<text text-anchor=\"start\" x=\"519.5\" y=\"-334.8\" font-family=\"Helvetica,sans-Serif\" font-size=\"14.00\" fill=\"#000000\">gini = 0.019</text>\n<text text-anchor=\"start\" x=\"509.5\" y=\"-319.8\" font-family=\"Helvetica,sans-Serif\" font-size=\"14.00\" fill=\"#000000\">samples = 102</text>\n<text text-anchor=\"start\" x=\"507.5\" y=\"-304.8\" font-family=\"Helvetica,sans-Serif\" font-size=\"14.00\" fill=\"#000000\">value = [101, 1]</text>\n</g>\n<!-- 7&#45;&gt;11 -->\n<g id=\"edge11\" class=\"edge\">\n<title>7&#45;&gt;11</title>\n<path fill=\"none\" stroke=\"#000000\" d=\"M489.5712,-400.9465C498.3779,-391.8782 507.9907,-381.9799 517.1403,-372.5585\"/>\n<polygon fill=\"#000000\" stroke=\"#000000\" points=\"519.8985,-374.7422 524.3545,-365.13 514.8768,-369.8654 519.8985,-374.7422\"/>\n</g>\n<!-- 9 -->\n<g id=\"node10\" class=\"node\">\n<title>9</title>\n<path fill=\"#399de5\" stroke=\"#000000\" d=\"M277,-253.5C277,-253.5 202,-253.5 202,-253.5 196,-253.5 190,-247.5 190,-241.5 190,-241.5 190,-212.5 190,-212.5 190,-206.5 196,-200.5 202,-200.5 202,-200.5 277,-200.5 277,-200.5 283,-200.5 289,-206.5 289,-212.5 289,-212.5 289,-241.5 289,-241.5 289,-247.5 283,-253.5 277,-253.5\"/>\n<text text-anchor=\"start\" x=\"210\" y=\"-238.3\" font-family=\"Helvetica,sans-Serif\" font-size=\"14.00\" fill=\"#000000\">gini = 0.0</text>\n<text text-anchor=\"start\" x=\"200\" y=\"-223.3\" font-family=\"Helvetica,sans-Serif\" font-size=\"14.00\" fill=\"#000000\">samples = 2</text>\n<text text-anchor=\"start\" x=\"198\" y=\"-208.3\" font-family=\"Helvetica,sans-Serif\" font-size=\"14.00\" fill=\"#000000\">value = [0, 2]</text>\n</g>\n<!-- 8&#45;&gt;9 -->\n<g id=\"edge9\" class=\"edge\">\n<title>8&#45;&gt;9</title>\n<path fill=\"none\" stroke=\"#000000\" d=\"M318.1898,-296.9465C304.9306,-285.1606 290.0942,-271.9726 276.9084,-260.2519\"/>\n<polygon fill=\"#000000\" stroke=\"#000000\" points=\"279.1593,-257.5699 269.3599,-253.5422 274.5088,-262.8018 279.1593,-257.5699\"/>\n</g>\n<!-- 10 -->\n<g id=\"node11\" class=\"node\">\n<title>10</title>\n<path fill=\"#e58139\" stroke=\"#000000\" d=\"M394,-253.5C394,-253.5 319,-253.5 319,-253.5 313,-253.5 307,-247.5 307,-241.5 307,-241.5 307,-212.5 307,-212.5 307,-206.5 313,-200.5 319,-200.5 319,-200.5 394,-200.5 394,-200.5 400,-200.5 406,-206.5 406,-212.5 406,-212.5 406,-241.5 406,-241.5 406,-247.5 400,-253.5 394,-253.5\"/>\n<text text-anchor=\"start\" x=\"327\" y=\"-238.3\" font-family=\"Helvetica,sans-Serif\" font-size=\"14.00\" fill=\"#000000\">gini = 0.0</text>\n<text text-anchor=\"start\" x=\"317\" y=\"-223.3\" font-family=\"Helvetica,sans-Serif\" font-size=\"14.00\" fill=\"#000000\">samples = 3</text>\n<text text-anchor=\"start\" x=\"315\" y=\"-208.3\" font-family=\"Helvetica,sans-Serif\" font-size=\"14.00\" fill=\"#000000\">value = [3, 0]</text>\n</g>\n<!-- 8&#45;&gt;10 -->\n<g id=\"edge10\" class=\"edge\">\n<title>8&#45;&gt;10</title>\n<path fill=\"none\" stroke=\"#000000\" d=\"M356.5,-296.9465C356.5,-286.2621 356.5,-274.4254 356.5,-263.5742\"/>\n<polygon fill=\"#000000\" stroke=\"#000000\" points=\"360.0001,-263.5421 356.5,-253.5422 353.0001,-263.5422 360.0001,-263.5421\"/>\n</g>\n<!-- 12 -->\n<g id=\"node13\" class=\"node\">\n<title>12</title>\n<path fill=\"#e58139\" stroke=\"#000000\" d=\"M519,-253.5C519,-253.5 436,-253.5 436,-253.5 430,-253.5 424,-247.5 424,-241.5 424,-241.5 424,-212.5 424,-212.5 424,-206.5 430,-200.5 436,-200.5 436,-200.5 519,-200.5 519,-200.5 525,-200.5 531,-206.5 531,-212.5 531,-212.5 531,-241.5 531,-241.5 531,-247.5 525,-253.5 519,-253.5\"/>\n<text text-anchor=\"start\" x=\"448\" y=\"-238.3\" font-family=\"Helvetica,sans-Serif\" font-size=\"14.00\" fill=\"#000000\">gini = 0.0</text>\n<text text-anchor=\"start\" x=\"433.5\" y=\"-223.3\" font-family=\"Helvetica,sans-Serif\" font-size=\"14.00\" fill=\"#000000\">samples = 99</text>\n<text text-anchor=\"start\" x=\"432\" y=\"-208.3\" font-family=\"Helvetica,sans-Serif\" font-size=\"14.00\" fill=\"#000000\">value = [99, 0]</text>\n</g>\n<!-- 11&#45;&gt;12 -->\n<g id=\"edge12\" class=\"edge\">\n<title>11&#45;&gt;12</title>\n<path fill=\"none\" stroke=\"#000000\" d=\"M531.305,-296.9465C522.5778,-285.6012 512.8513,-272.9567 504.0941,-261.5724\"/>\n<polygon fill=\"#000000\" stroke=\"#000000\" points=\"506.7884,-259.3344 497.917,-253.5422 501.24,-263.6024 506.7884,-259.3344\"/>\n</g>\n<!-- 13 -->\n<g id=\"node14\" class=\"node\">\n<title>13</title>\n<path fill=\"#f2c09c\" stroke=\"#000000\" d=\"M747.5,-261C747.5,-261 561.5,-261 561.5,-261 555.5,-261 549.5,-255 549.5,-249 549.5,-249 549.5,-205 549.5,-205 549.5,-199 555.5,-193 561.5,-193 561.5,-193 747.5,-193 747.5,-193 753.5,-193 759.5,-199 759.5,-205 759.5,-205 759.5,-249 759.5,-249 759.5,-255 753.5,-261 747.5,-261\"/>\n<text text-anchor=\"start\" x=\"557.5\" y=\"-245.8\" font-family=\"Helvetica,sans-Serif\" font-size=\"14.00\" fill=\"#000000\">high_blood_pressure ≤ &#45;0.347</text>\n<text text-anchor=\"start\" x=\"616.5\" y=\"-230.8\" font-family=\"Helvetica,sans-Serif\" font-size=\"14.00\" fill=\"#000000\">gini = 0.444</text>\n<text text-anchor=\"start\" x=\"615\" y=\"-215.8\" font-family=\"Helvetica,sans-Serif\" font-size=\"14.00\" fill=\"#000000\">samples = 3</text>\n<text text-anchor=\"start\" x=\"613\" y=\"-200.8\" font-family=\"Helvetica,sans-Serif\" font-size=\"14.00\" fill=\"#000000\">value = [2, 1]</text>\n</g>\n<!-- 11&#45;&gt;13 -->\n<g id=\"edge13\" class=\"edge\">\n<title>11&#45;&gt;13</title>\n<path fill=\"none\" stroke=\"#000000\" d=\"M589.2614,-296.9465C597.7194,-287.8782 606.9514,-277.9799 615.7387,-268.5585\"/>\n<polygon fill=\"#000000\" stroke=\"#000000\" points=\"618.406,-270.8302 622.6672,-261.13 613.287,-266.0557 618.406,-270.8302\"/>\n</g>\n<!-- 14 -->\n<g id=\"node15\" class=\"node\">\n<title>14</title>\n<path fill=\"#e58139\" stroke=\"#000000\" d=\"M634,-149.5C634,-149.5 559,-149.5 559,-149.5 553,-149.5 547,-143.5 547,-137.5 547,-137.5 547,-108.5 547,-108.5 547,-102.5 553,-96.5 559,-96.5 559,-96.5 634,-96.5 634,-96.5 640,-96.5 646,-102.5 646,-108.5 646,-108.5 646,-137.5 646,-137.5 646,-143.5 640,-149.5 634,-149.5\"/>\n<text text-anchor=\"start\" x=\"567\" y=\"-134.3\" font-family=\"Helvetica,sans-Serif\" font-size=\"14.00\" fill=\"#000000\">gini = 0.0</text>\n<text text-anchor=\"start\" x=\"557\" y=\"-119.3\" font-family=\"Helvetica,sans-Serif\" font-size=\"14.00\" fill=\"#000000\">samples = 2</text>\n<text text-anchor=\"start\" x=\"555\" y=\"-104.3\" font-family=\"Helvetica,sans-Serif\" font-size=\"14.00\" fill=\"#000000\">value = [2, 0]</text>\n</g>\n<!-- 13&#45;&gt;14 -->\n<g id=\"edge14\" class=\"edge\">\n<title>13&#45;&gt;14</title>\n<path fill=\"none\" stroke=\"#000000\" d=\"M635.5086,-192.9465C629.3657,-181.9316 622.5399,-169.6922 616.3373,-158.5703\"/>\n<polygon fill=\"#000000\" stroke=\"#000000\" points=\"619.2299,-156.5711 611.3024,-149.5422 613.1163,-159.9806 619.2299,-156.5711\"/>\n</g>\n<!-- 15 -->\n<g id=\"node16\" class=\"node\">\n<title>15</title>\n<path fill=\"#399de5\" stroke=\"#000000\" d=\"M751,-149.5C751,-149.5 676,-149.5 676,-149.5 670,-149.5 664,-143.5 664,-137.5 664,-137.5 664,-108.5 664,-108.5 664,-102.5 670,-96.5 676,-96.5 676,-96.5 751,-96.5 751,-96.5 757,-96.5 763,-102.5 763,-108.5 763,-108.5 763,-137.5 763,-137.5 763,-143.5 757,-149.5 751,-149.5\"/>\n<text text-anchor=\"start\" x=\"684\" y=\"-134.3\" font-family=\"Helvetica,sans-Serif\" font-size=\"14.00\" fill=\"#000000\">gini = 0.0</text>\n<text text-anchor=\"start\" x=\"674\" y=\"-119.3\" font-family=\"Helvetica,sans-Serif\" font-size=\"14.00\" fill=\"#000000\">samples = 1</text>\n<text text-anchor=\"start\" x=\"672\" y=\"-104.3\" font-family=\"Helvetica,sans-Serif\" font-size=\"14.00\" fill=\"#000000\">value = [0, 1]</text>\n</g>\n<!-- 13&#45;&gt;15 -->\n<g id=\"edge15\" class=\"edge\">\n<title>13&#45;&gt;15</title>\n<path fill=\"none\" stroke=\"#000000\" d=\"M673.8188,-192.9465C680.0676,-181.9316 687.0112,-169.6922 693.3207,-158.5703\"/>\n<polygon fill=\"#000000\" stroke=\"#000000\" points=\"696.5523,-159.967 698.4424,-149.5422 690.4638,-156.513 696.5523,-159.967\"/>\n</g>\n<!-- 18 -->\n<g id=\"node19\" class=\"node\">\n<title>18</title>\n<path fill=\"#ea9a5f\" stroke=\"#000000\" d=\"M1318.5,-573C1318.5,-573 1168.5,-573 1168.5,-573 1162.5,-573 1156.5,-567 1156.5,-561 1156.5,-561 1156.5,-517 1156.5,-517 1156.5,-511 1162.5,-505 1168.5,-505 1168.5,-505 1318.5,-505 1318.5,-505 1324.5,-505 1330.5,-511 1330.5,-517 1330.5,-517 1330.5,-561 1330.5,-561 1330.5,-567 1324.5,-573 1318.5,-573\"/>\n<text text-anchor=\"start\" x=\"1164.5\" y=\"-557.8\" font-family=\"Helvetica,sans-Serif\" font-size=\"14.00\" fill=\"#000000\">ejection_fraction ≤ 0.766</text>\n<text text-anchor=\"start\" x=\"1205.5\" y=\"-542.8\" font-family=\"Helvetica,sans-Serif\" font-size=\"14.00\" fill=\"#000000\">gini = 0.273</text>\n<text text-anchor=\"start\" x=\"1199.5\" y=\"-527.8\" font-family=\"Helvetica,sans-Serif\" font-size=\"14.00\" fill=\"#000000\">samples = 43</text>\n<text text-anchor=\"start\" x=\"1198\" y=\"-512.8\" font-family=\"Helvetica,sans-Serif\" font-size=\"14.00\" fill=\"#000000\">value = [36, 7]</text>\n</g>\n<!-- 17&#45;&gt;18 -->\n<g id=\"edge18\" class=\"edge\">\n<title>17&#45;&gt;18</title>\n<path fill=\"none\" stroke=\"#000000\" d=\"M1268.3848,-608.9465C1265.4141,-600.5965 1262.1931,-591.5427 1259.0847,-582.8056\"/>\n<polygon fill=\"#000000\" stroke=\"#000000\" points=\"1262.2919,-581.3783 1255.6424,-573.13 1255.6968,-583.7247 1262.2919,-581.3783\"/>\n</g>\n<!-- 31 -->\n<g id=\"node32\" class=\"node\">\n<title>31</title>\n<path fill=\"#9ccef2\" stroke=\"#000000\" d=\"M1502.5,-573C1502.5,-573 1398.5,-573 1398.5,-573 1392.5,-573 1386.5,-567 1386.5,-561 1386.5,-561 1386.5,-517 1386.5,-517 1386.5,-511 1392.5,-505 1398.5,-505 1398.5,-505 1502.5,-505 1502.5,-505 1508.5,-505 1514.5,-511 1514.5,-517 1514.5,-517 1514.5,-561 1514.5,-561 1514.5,-567 1508.5,-573 1502.5,-573\"/>\n<text text-anchor=\"start\" x=\"1394.5\" y=\"-557.8\" font-family=\"Helvetica,sans-Serif\" font-size=\"14.00\" fill=\"#000000\">smoking ≤ &#45;0.109</text>\n<text text-anchor=\"start\" x=\"1412.5\" y=\"-542.8\" font-family=\"Helvetica,sans-Serif\" font-size=\"14.00\" fill=\"#000000\">gini = 0.444</text>\n<text text-anchor=\"start\" x=\"1406.5\" y=\"-527.8\" font-family=\"Helvetica,sans-Serif\" font-size=\"14.00\" fill=\"#000000\">samples = 21</text>\n<text text-anchor=\"start\" x=\"1405\" y=\"-512.8\" font-family=\"Helvetica,sans-Serif\" font-size=\"14.00\" fill=\"#000000\">value = [7, 14]</text>\n</g>\n<!-- 17&#45;&gt;31 -->\n<g id=\"edge31\" class=\"edge\">\n<title>17&#45;&gt;31</title>\n<path fill=\"none\" stroke=\"#000000\" d=\"M1336.1644,-608.9465C1352.0149,-599.2497 1369.4168,-588.6039 1385.7579,-578.6069\"/>\n<polygon fill=\"#000000\" stroke=\"#000000\" points=\"1388.0067,-581.3342 1394.7106,-573.13 1384.3537,-575.363 1388.0067,-581.3342\"/>\n</g>\n<!-- 19 -->\n<g id=\"node20\" class=\"node\">\n<title>19</title>\n<path fill=\"#e78c4a\" stroke=\"#000000\" d=\"M1111,-469C1111,-469 1028,-469 1028,-469 1022,-469 1016,-463 1016,-457 1016,-457 1016,-413 1016,-413 1016,-407 1022,-401 1028,-401 1028,-401 1111,-401 1111,-401 1117,-401 1123,-407 1123,-413 1123,-413 1123,-457 1123,-457 1123,-463 1117,-469 1111,-469\"/>\n<text text-anchor=\"start\" x=\"1035\" y=\"-453.8\" font-family=\"Helvetica,sans-Serif\" font-size=\"14.00\" fill=\"#000000\">age ≤ 1.52</text>\n<text text-anchor=\"start\" x=\"1031.5\" y=\"-438.8\" font-family=\"Helvetica,sans-Serif\" font-size=\"14.00\" fill=\"#000000\">gini = 0.149</text>\n<text text-anchor=\"start\" x=\"1025.5\" y=\"-423.8\" font-family=\"Helvetica,sans-Serif\" font-size=\"14.00\" fill=\"#000000\">samples = 37</text>\n<text text-anchor=\"start\" x=\"1024\" y=\"-408.8\" font-family=\"Helvetica,sans-Serif\" font-size=\"14.00\" fill=\"#000000\">value = [34, 3]</text>\n</g>\n<!-- 18&#45;&gt;19 -->\n<g id=\"edge19\" class=\"edge\">\n<title>18&#45;&gt;19</title>\n<path fill=\"none\" stroke=\"#000000\" d=\"M1186.5259,-504.9465C1168.9798,-494.4592 1149.5766,-482.8619 1131.6981,-472.1759\"/>\n<polygon fill=\"#000000\" stroke=\"#000000\" points=\"1133.4381,-469.1383 1123.0588,-467.0121 1129.8467,-475.1469 1133.4381,-469.1383\"/>\n</g>\n<!-- 28 -->\n<g id=\"node29\" class=\"node\">\n<title>28</title>\n<path fill=\"#9ccef2\" stroke=\"#000000\" d=\"M1296,-469C1296,-469 1191,-469 1191,-469 1185,-469 1179,-463 1179,-457 1179,-457 1179,-413 1179,-413 1179,-407 1185,-401 1191,-401 1191,-401 1296,-401 1296,-401 1302,-401 1308,-407 1308,-413 1308,-413 1308,-457 1308,-457 1308,-463 1302,-469 1296,-469\"/>\n<text text-anchor=\"start\" x=\"1187\" y=\"-453.8\" font-family=\"Helvetica,sans-Serif\" font-size=\"14.00\" fill=\"#000000\">anaemia ≤ &#45;0.827</text>\n<text text-anchor=\"start\" x=\"1205.5\" y=\"-438.8\" font-family=\"Helvetica,sans-Serif\" font-size=\"14.00\" fill=\"#000000\">gini = 0.444</text>\n<text text-anchor=\"start\" x=\"1204\" y=\"-423.8\" font-family=\"Helvetica,sans-Serif\" font-size=\"14.00\" fill=\"#000000\">samples = 6</text>\n<text text-anchor=\"start\" x=\"1202\" y=\"-408.8\" font-family=\"Helvetica,sans-Serif\" font-size=\"14.00\" fill=\"#000000\">value = [2, 4]</text>\n</g>\n<!-- 18&#45;&gt;28 -->\n<g id=\"edge28\" class=\"edge\">\n<title>18&#45;&gt;28</title>\n<path fill=\"none\" stroke=\"#000000\" d=\"M1243.5,-504.9465C1243.5,-496.776 1243.5,-487.9318 1243.5,-479.3697\"/>\n<polygon fill=\"#000000\" stroke=\"#000000\" points=\"1247.0001,-479.13 1243.5,-469.13 1240.0001,-479.13 1247.0001,-479.13\"/>\n</g>\n<!-- 20 -->\n<g id=\"node21\" class=\"node\">\n<title>20</title>\n<path fill=\"#e6853f\" stroke=\"#000000\" d=\"M975,-365C975,-365 870,-365 870,-365 864,-365 858,-359 858,-353 858,-353 858,-309 858,-309 858,-303 864,-297 870,-297 870,-297 975,-297 975,-297 981,-297 987,-303 987,-309 987,-309 987,-353 987,-353 987,-359 981,-365 975,-365\"/>\n<text text-anchor=\"start\" x=\"866\" y=\"-349.8\" font-family=\"Helvetica,sans-Serif\" font-size=\"14.00\" fill=\"#000000\">anaemia ≤ &#45;0.235</text>\n<text text-anchor=\"start\" x=\"884.5\" y=\"-334.8\" font-family=\"Helvetica,sans-Serif\" font-size=\"14.00\" fill=\"#000000\">gini = 0.057</text>\n<text text-anchor=\"start\" x=\"878.5\" y=\"-319.8\" font-family=\"Helvetica,sans-Serif\" font-size=\"14.00\" fill=\"#000000\">samples = 34</text>\n<text text-anchor=\"start\" x=\"877\" y=\"-304.8\" font-family=\"Helvetica,sans-Serif\" font-size=\"14.00\" fill=\"#000000\">value = [33, 1]</text>\n</g>\n<!-- 19&#45;&gt;20 -->\n<g id=\"edge20\" class=\"edge\">\n<title>19&#45;&gt;20</title>\n<path fill=\"none\" stroke=\"#000000\" d=\"M1021.3667,-400.9465C1007.9144,-391.4293 993.17,-380.9978 979.2688,-371.163\"/>\n<polygon fill=\"#000000\" stroke=\"#000000\" points=\"980.9264,-368.0483 970.7414,-365.13 976.8835,-373.7628 980.9264,-368.0483\"/>\n</g>\n<!-- 25 -->\n<g id=\"node26\" class=\"node\">\n<title>25</title>\n<path fill=\"#9ccef2\" stroke=\"#000000\" d=\"M1121.5,-365C1121.5,-365 1017.5,-365 1017.5,-365 1011.5,-365 1005.5,-359 1005.5,-353 1005.5,-353 1005.5,-309 1005.5,-309 1005.5,-303 1011.5,-297 1017.5,-297 1017.5,-297 1121.5,-297 1121.5,-297 1127.5,-297 1133.5,-303 1133.5,-309 1133.5,-309 1133.5,-353 1133.5,-353 1133.5,-359 1127.5,-365 1121.5,-365\"/>\n<text text-anchor=\"start\" x=\"1013.5\" y=\"-349.8\" font-family=\"Helvetica,sans-Serif\" font-size=\"14.00\" fill=\"#000000\">diabetes ≤ &#45;0.568</text>\n<text text-anchor=\"start\" x=\"1031.5\" y=\"-334.8\" font-family=\"Helvetica,sans-Serif\" font-size=\"14.00\" fill=\"#000000\">gini = 0.444</text>\n<text text-anchor=\"start\" x=\"1030\" y=\"-319.8\" font-family=\"Helvetica,sans-Serif\" font-size=\"14.00\" fill=\"#000000\">samples = 3</text>\n<text text-anchor=\"start\" x=\"1028\" y=\"-304.8\" font-family=\"Helvetica,sans-Serif\" font-size=\"14.00\" fill=\"#000000\">value = [1, 2]</text>\n</g>\n<!-- 19&#45;&gt;25 -->\n<g id=\"edge25\" class=\"edge\">\n<title>19&#45;&gt;25</title>\n<path fill=\"none\" stroke=\"#000000\" d=\"M1069.5,-400.9465C1069.5,-392.776 1069.5,-383.9318 1069.5,-375.3697\"/>\n<polygon fill=\"#000000\" stroke=\"#000000\" points=\"1073.0001,-375.13 1069.5,-365.13 1066.0001,-375.13 1073.0001,-375.13\"/>\n</g>\n<!-- 21 -->\n<g id=\"node22\" class=\"node\">\n<title>21</title>\n<path fill=\"#e58139\" stroke=\"#000000\" d=\"M873,-253.5C873,-253.5 790,-253.5 790,-253.5 784,-253.5 778,-247.5 778,-241.5 778,-241.5 778,-212.5 778,-212.5 778,-206.5 784,-200.5 790,-200.5 790,-200.5 873,-200.5 873,-200.5 879,-200.5 885,-206.5 885,-212.5 885,-212.5 885,-241.5 885,-241.5 885,-247.5 879,-253.5 873,-253.5\"/>\n<text text-anchor=\"start\" x=\"802\" y=\"-238.3\" font-family=\"Helvetica,sans-Serif\" font-size=\"14.00\" fill=\"#000000\">gini = 0.0</text>\n<text text-anchor=\"start\" x=\"787.5\" y=\"-223.3\" font-family=\"Helvetica,sans-Serif\" font-size=\"14.00\" fill=\"#000000\">samples = 32</text>\n<text text-anchor=\"start\" x=\"786\" y=\"-208.3\" font-family=\"Helvetica,sans-Serif\" font-size=\"14.00\" fill=\"#000000\">value = [32, 0]</text>\n</g>\n<!-- 20&#45;&gt;21 -->\n<g id=\"edge21\" class=\"edge\">\n<title>20&#45;&gt;21</title>\n<path fill=\"none\" stroke=\"#000000\" d=\"M892.7032,-296.9465C882.6796,-285.491 871.4972,-272.711 861.461,-261.2412\"/>\n<polygon fill=\"#000000\" stroke=\"#000000\" points=\"863.9435,-258.7632 854.7244,-253.5422 858.6754,-263.3727 863.9435,-258.7632\"/>\n</g>\n<!-- 22 -->\n<g id=\"node23\" class=\"node\">\n<title>22</title>\n<path fill=\"#ffffff\" stroke=\"#000000\" d=\"M990,-261C990,-261 915,-261 915,-261 909,-261 903,-255 903,-249 903,-249 903,-205 903,-205 903,-199 909,-193 915,-193 915,-193 990,-193 990,-193 996,-193 1002,-199 1002,-205 1002,-205 1002,-249 1002,-249 1002,-255 996,-261 990,-261\"/>\n<text text-anchor=\"start\" x=\"919\" y=\"-245.8\" font-family=\"Helvetica,sans-Serif\" font-size=\"14.00\" fill=\"#000000\">sex ≤ 0.57</text>\n<text text-anchor=\"start\" x=\"923\" y=\"-230.8\" font-family=\"Helvetica,sans-Serif\" font-size=\"14.00\" fill=\"#000000\">gini = 0.5</text>\n<text text-anchor=\"start\" x=\"913\" y=\"-215.8\" font-family=\"Helvetica,sans-Serif\" font-size=\"14.00\" fill=\"#000000\">samples = 2</text>\n<text text-anchor=\"start\" x=\"911\" y=\"-200.8\" font-family=\"Helvetica,sans-Serif\" font-size=\"14.00\" fill=\"#000000\">value = [1, 1]</text>\n</g>\n<!-- 20&#45;&gt;22 -->\n<g id=\"edge22\" class=\"edge\">\n<title>20&#45;&gt;22</title>\n<path fill=\"none\" stroke=\"#000000\" d=\"M932.3231,-296.9465C934.7318,-288.5965 937.3434,-279.5427 939.8638,-270.8056\"/>\n<polygon fill=\"#000000\" stroke=\"#000000\" points=\"943.246,-271.7083 942.6548,-261.13 936.5202,-269.7681 943.246,-271.7083\"/>\n</g>\n<!-- 23 -->\n<g id=\"node24\" class=\"node\">\n<title>23</title>\n<path fill=\"#e58139\" stroke=\"#000000\" d=\"M958,-149.5C958,-149.5 883,-149.5 883,-149.5 877,-149.5 871,-143.5 871,-137.5 871,-137.5 871,-108.5 871,-108.5 871,-102.5 877,-96.5 883,-96.5 883,-96.5 958,-96.5 958,-96.5 964,-96.5 970,-102.5 970,-108.5 970,-108.5 970,-137.5 970,-137.5 970,-143.5 964,-149.5 958,-149.5\"/>\n<text text-anchor=\"start\" x=\"891\" y=\"-134.3\" font-family=\"Helvetica,sans-Serif\" font-size=\"14.00\" fill=\"#000000\">gini = 0.0</text>\n<text text-anchor=\"start\" x=\"881\" y=\"-119.3\" font-family=\"Helvetica,sans-Serif\" font-size=\"14.00\" fill=\"#000000\">samples = 1</text>\n<text text-anchor=\"start\" x=\"879\" y=\"-104.3\" font-family=\"Helvetica,sans-Serif\" font-size=\"14.00\" fill=\"#000000\">value = [1, 0]</text>\n</g>\n<!-- 22&#45;&gt;23 -->\n<g id=\"edge23\" class=\"edge\">\n<title>22&#45;&gt;23</title>\n<path fill=\"none\" stroke=\"#000000\" d=\"M942.022,-192.9465C938.7006,-182.1519 935.0173,-170.1813 931.6504,-159.2389\"/>\n<polygon fill=\"#000000\" stroke=\"#000000\" points=\"934.953,-158.0706 928.6668,-149.5422 928.2625,-160.1293 934.953,-158.0706\"/>\n</g>\n<!-- 24 -->\n<g id=\"node25\" class=\"node\">\n<title>24</title>\n<path fill=\"#399de5\" stroke=\"#000000\" d=\"M1075,-149.5C1075,-149.5 1000,-149.5 1000,-149.5 994,-149.5 988,-143.5 988,-137.5 988,-137.5 988,-108.5 988,-108.5 988,-102.5 994,-96.5 1000,-96.5 1000,-96.5 1075,-96.5 1075,-96.5 1081,-96.5 1087,-102.5 1087,-108.5 1087,-108.5 1087,-137.5 1087,-137.5 1087,-143.5 1081,-149.5 1075,-149.5\"/>\n<text text-anchor=\"start\" x=\"1008\" y=\"-134.3\" font-family=\"Helvetica,sans-Serif\" font-size=\"14.00\" fill=\"#000000\">gini = 0.0</text>\n<text text-anchor=\"start\" x=\"998\" y=\"-119.3\" font-family=\"Helvetica,sans-Serif\" font-size=\"14.00\" fill=\"#000000\">samples = 1</text>\n<text text-anchor=\"start\" x=\"996\" y=\"-104.3\" font-family=\"Helvetica,sans-Serif\" font-size=\"14.00\" fill=\"#000000\">value = [0, 1]</text>\n</g>\n<!-- 22&#45;&gt;24 -->\n<g id=\"edge24\" class=\"edge\">\n<title>22&#45;&gt;24</title>\n<path fill=\"none\" stroke=\"#000000\" d=\"M980.3322,-192.9465C989.6048,-181.6012 999.9392,-168.9567 1009.2437,-157.5724\"/>\n<polygon fill=\"#000000\" stroke=\"#000000\" points=\"1012.1885,-159.5 1015.8069,-149.5422 1006.7685,-155.0701 1012.1885,-159.5\"/>\n</g>\n<!-- 26 -->\n<g id=\"node27\" class=\"node\">\n<title>26</title>\n<path fill=\"#e58139\" stroke=\"#000000\" d=\"M1107,-253.5C1107,-253.5 1032,-253.5 1032,-253.5 1026,-253.5 1020,-247.5 1020,-241.5 1020,-241.5 1020,-212.5 1020,-212.5 1020,-206.5 1026,-200.5 1032,-200.5 1032,-200.5 1107,-200.5 1107,-200.5 1113,-200.5 1119,-206.5 1119,-212.5 1119,-212.5 1119,-241.5 1119,-241.5 1119,-247.5 1113,-253.5 1107,-253.5\"/>\n<text text-anchor=\"start\" x=\"1040\" y=\"-238.3\" font-family=\"Helvetica,sans-Serif\" font-size=\"14.00\" fill=\"#000000\">gini = 0.0</text>\n<text text-anchor=\"start\" x=\"1030\" y=\"-223.3\" font-family=\"Helvetica,sans-Serif\" font-size=\"14.00\" fill=\"#000000\">samples = 1</text>\n<text text-anchor=\"start\" x=\"1028\" y=\"-208.3\" font-family=\"Helvetica,sans-Serif\" font-size=\"14.00\" fill=\"#000000\">value = [1, 0]</text>\n</g>\n<!-- 25&#45;&gt;26 -->\n<g id=\"edge26\" class=\"edge\">\n<title>25&#45;&gt;26</title>\n<path fill=\"none\" stroke=\"#000000\" d=\"M1069.5,-296.9465C1069.5,-286.2621 1069.5,-274.4254 1069.5,-263.5742\"/>\n<polygon fill=\"#000000\" stroke=\"#000000\" points=\"1073.0001,-263.5421 1069.5,-253.5422 1066.0001,-263.5422 1073.0001,-263.5421\"/>\n</g>\n<!-- 27 -->\n<g id=\"node28\" class=\"node\">\n<title>27</title>\n<path fill=\"#399de5\" stroke=\"#000000\" d=\"M1224,-253.5C1224,-253.5 1149,-253.5 1149,-253.5 1143,-253.5 1137,-247.5 1137,-241.5 1137,-241.5 1137,-212.5 1137,-212.5 1137,-206.5 1143,-200.5 1149,-200.5 1149,-200.5 1224,-200.5 1224,-200.5 1230,-200.5 1236,-206.5 1236,-212.5 1236,-212.5 1236,-241.5 1236,-241.5 1236,-247.5 1230,-253.5 1224,-253.5\"/>\n<text text-anchor=\"start\" x=\"1157\" y=\"-238.3\" font-family=\"Helvetica,sans-Serif\" font-size=\"14.00\" fill=\"#000000\">gini = 0.0</text>\n<text text-anchor=\"start\" x=\"1147\" y=\"-223.3\" font-family=\"Helvetica,sans-Serif\" font-size=\"14.00\" fill=\"#000000\">samples = 2</text>\n<text text-anchor=\"start\" x=\"1145\" y=\"-208.3\" font-family=\"Helvetica,sans-Serif\" font-size=\"14.00\" fill=\"#000000\">value = [0, 2]</text>\n</g>\n<!-- 25&#45;&gt;27 -->\n<g id=\"edge27\" class=\"edge\">\n<title>25&#45;&gt;27</title>\n<path fill=\"none\" stroke=\"#000000\" d=\"M1107.8102,-296.9465C1121.0694,-285.1606 1135.9058,-271.9726 1149.0916,-260.2519\"/>\n<polygon fill=\"#000000\" stroke=\"#000000\" points=\"1151.4912,-262.8018 1156.6401,-253.5422 1146.8407,-257.5699 1151.4912,-262.8018\"/>\n</g>\n<!-- 29 -->\n<g id=\"node30\" class=\"node\">\n<title>29</title>\n<path fill=\"#399de5\" stroke=\"#000000\" d=\"M1239,-357.5C1239,-357.5 1164,-357.5 1164,-357.5 1158,-357.5 1152,-351.5 1152,-345.5 1152,-345.5 1152,-316.5 1152,-316.5 1152,-310.5 1158,-304.5 1164,-304.5 1164,-304.5 1239,-304.5 1239,-304.5 1245,-304.5 1251,-310.5 1251,-316.5 1251,-316.5 1251,-345.5 1251,-345.5 1251,-351.5 1245,-357.5 1239,-357.5\"/>\n<text text-anchor=\"start\" x=\"1172\" y=\"-342.3\" font-family=\"Helvetica,sans-Serif\" font-size=\"14.00\" fill=\"#000000\">gini = 0.0</text>\n<text text-anchor=\"start\" x=\"1162\" y=\"-327.3\" font-family=\"Helvetica,sans-Serif\" font-size=\"14.00\" fill=\"#000000\">samples = 4</text>\n<text text-anchor=\"start\" x=\"1160\" y=\"-312.3\" font-family=\"Helvetica,sans-Serif\" font-size=\"14.00\" fill=\"#000000\">value = [0, 4]</text>\n</g>\n<!-- 28&#45;&gt;29 -->\n<g id=\"edge29\" class=\"edge\">\n<title>28&#45;&gt;29</title>\n<path fill=\"none\" stroke=\"#000000\" d=\"M1229.7476,-400.9465C1225.3438,-390.0418 1220.4553,-377.9368 1215.9998,-366.9043\"/>\n<polygon fill=\"#000000\" stroke=\"#000000\" points=\"1219.209,-365.5039 1212.219,-357.5422 1212.7183,-368.1252 1219.209,-365.5039\"/>\n</g>\n<!-- 30 -->\n<g id=\"node31\" class=\"node\">\n<title>30</title>\n<path fill=\"#e58139\" stroke=\"#000000\" d=\"M1356,-357.5C1356,-357.5 1281,-357.5 1281,-357.5 1275,-357.5 1269,-351.5 1269,-345.5 1269,-345.5 1269,-316.5 1269,-316.5 1269,-310.5 1275,-304.5 1281,-304.5 1281,-304.5 1356,-304.5 1356,-304.5 1362,-304.5 1368,-310.5 1368,-316.5 1368,-316.5 1368,-345.5 1368,-345.5 1368,-351.5 1362,-357.5 1356,-357.5\"/>\n<text text-anchor=\"start\" x=\"1289\" y=\"-342.3\" font-family=\"Helvetica,sans-Serif\" font-size=\"14.00\" fill=\"#000000\">gini = 0.0</text>\n<text text-anchor=\"start\" x=\"1279\" y=\"-327.3\" font-family=\"Helvetica,sans-Serif\" font-size=\"14.00\" fill=\"#000000\">samples = 2</text>\n<text text-anchor=\"start\" x=\"1277\" y=\"-312.3\" font-family=\"Helvetica,sans-Serif\" font-size=\"14.00\" fill=\"#000000\">value = [2, 0]</text>\n</g>\n<!-- 28&#45;&gt;30 -->\n<g id=\"edge30\" class=\"edge\">\n<title>28&#45;&gt;30</title>\n<path fill=\"none\" stroke=\"#000000\" d=\"M1268.0578,-400.9465C1276.1601,-389.7113 1285.1812,-377.2021 1293.3286,-365.9043\"/>\n<polygon fill=\"#000000\" stroke=\"#000000\" points=\"1296.3486,-367.7003 1299.359,-357.5422 1290.6709,-363.6058 1296.3486,-367.7003\"/>\n</g>\n<!-- 32 -->\n<g id=\"node33\" class=\"node\">\n<title>32</title>\n<path fill=\"#f0b78e\" stroke=\"#000000\" d=\"M1499.5,-469C1499.5,-469 1401.5,-469 1401.5,-469 1395.5,-469 1389.5,-463 1389.5,-457 1389.5,-457 1389.5,-413 1389.5,-413 1389.5,-407 1395.5,-401 1401.5,-401 1401.5,-401 1499.5,-401 1499.5,-401 1505.5,-401 1511.5,-407 1511.5,-413 1511.5,-413 1511.5,-457 1511.5,-457 1511.5,-463 1505.5,-469 1499.5,-469\"/>\n<text text-anchor=\"start\" x=\"1397.5\" y=\"-453.8\" font-family=\"Helvetica,sans-Serif\" font-size=\"14.00\" fill=\"#000000\">platelets ≤ 0.813</text>\n<text text-anchor=\"start\" x=\"1417\" y=\"-438.8\" font-family=\"Helvetica,sans-Serif\" font-size=\"14.00\" fill=\"#000000\">gini = 0.42</text>\n<text text-anchor=\"start\" x=\"1406.5\" y=\"-423.8\" font-family=\"Helvetica,sans-Serif\" font-size=\"14.00\" fill=\"#000000\">samples = 10</text>\n<text text-anchor=\"start\" x=\"1409\" y=\"-408.8\" font-family=\"Helvetica,sans-Serif\" font-size=\"14.00\" fill=\"#000000\">value = [7, 3]</text>\n</g>\n<!-- 31&#45;&gt;32 -->\n<g id=\"edge32\" class=\"edge\">\n<title>31&#45;&gt;32</title>\n<path fill=\"none\" stroke=\"#000000\" d=\"M1450.5,-504.9465C1450.5,-496.776 1450.5,-487.9318 1450.5,-479.3697\"/>\n<polygon fill=\"#000000\" stroke=\"#000000\" points=\"1454.0001,-479.13 1450.5,-469.13 1447.0001,-479.13 1454.0001,-479.13\"/>\n</g>\n<!-- 39 -->\n<g id=\"node40\" class=\"node\">\n<title>39</title>\n<path fill=\"#399de5\" stroke=\"#000000\" d=\"M1625,-461.5C1625,-461.5 1542,-461.5 1542,-461.5 1536,-461.5 1530,-455.5 1530,-449.5 1530,-449.5 1530,-420.5 1530,-420.5 1530,-414.5 1536,-408.5 1542,-408.5 1542,-408.5 1625,-408.5 1625,-408.5 1631,-408.5 1637,-414.5 1637,-420.5 1637,-420.5 1637,-449.5 1637,-449.5 1637,-455.5 1631,-461.5 1625,-461.5\"/>\n<text text-anchor=\"start\" x=\"1554\" y=\"-446.3\" font-family=\"Helvetica,sans-Serif\" font-size=\"14.00\" fill=\"#000000\">gini = 0.0</text>\n<text text-anchor=\"start\" x=\"1539.5\" y=\"-431.3\" font-family=\"Helvetica,sans-Serif\" font-size=\"14.00\" fill=\"#000000\">samples = 11</text>\n<text text-anchor=\"start\" x=\"1538\" y=\"-416.3\" font-family=\"Helvetica,sans-Serif\" font-size=\"14.00\" fill=\"#000000\">value = [0, 11]</text>\n</g>\n<!-- 31&#45;&gt;39 -->\n<g id=\"edge39\" class=\"edge\">\n<title>31&#45;&gt;39</title>\n<path fill=\"none\" stroke=\"#000000\" d=\"M1494.0492,-504.9465C1509.2625,-493.0504 1526.3023,-479.726 1541.3957,-467.9237\"/>\n<polygon fill=\"#000000\" stroke=\"#000000\" points=\"1543.8351,-470.4592 1549.5567,-461.5422 1539.5231,-464.9449 1543.8351,-470.4592\"/>\n</g>\n<!-- 33 -->\n<g id=\"node34\" class=\"node\">\n<title>33</title>\n<path fill=\"#e99355\" stroke=\"#000000\" d=\"M1502.5,-365C1502.5,-365 1398.5,-365 1398.5,-365 1392.5,-365 1386.5,-359 1386.5,-353 1386.5,-353 1386.5,-309 1386.5,-309 1386.5,-303 1392.5,-297 1398.5,-297 1398.5,-297 1502.5,-297 1502.5,-297 1508.5,-297 1514.5,-303 1514.5,-309 1514.5,-309 1514.5,-353 1514.5,-353 1514.5,-359 1508.5,-365 1502.5,-365\"/>\n<text text-anchor=\"start\" x=\"1394.5\" y=\"-349.8\" font-family=\"Helvetica,sans-Serif\" font-size=\"14.00\" fill=\"#000000\">diabetes ≤ &#45;1.335</text>\n<text text-anchor=\"start\" x=\"1412.5\" y=\"-334.8\" font-family=\"Helvetica,sans-Serif\" font-size=\"14.00\" fill=\"#000000\">gini = 0.219</text>\n<text text-anchor=\"start\" x=\"1411\" y=\"-319.8\" font-family=\"Helvetica,sans-Serif\" font-size=\"14.00\" fill=\"#000000\">samples = 8</text>\n<text text-anchor=\"start\" x=\"1409\" y=\"-304.8\" font-family=\"Helvetica,sans-Serif\" font-size=\"14.00\" fill=\"#000000\">value = [7, 1]</text>\n</g>\n<!-- 32&#45;&gt;33 -->\n<g id=\"edge33\" class=\"edge\">\n<title>32&#45;&gt;33</title>\n<path fill=\"none\" stroke=\"#000000\" d=\"M1450.5,-400.9465C1450.5,-392.776 1450.5,-383.9318 1450.5,-375.3697\"/>\n<polygon fill=\"#000000\" stroke=\"#000000\" points=\"1454.0001,-375.13 1450.5,-365.13 1447.0001,-375.13 1454.0001,-375.13\"/>\n</g>\n<!-- 38 -->\n<g id=\"node39\" class=\"node\">\n<title>38</title>\n<path fill=\"#399de5\" stroke=\"#000000\" d=\"M1620,-357.5C1620,-357.5 1545,-357.5 1545,-357.5 1539,-357.5 1533,-351.5 1533,-345.5 1533,-345.5 1533,-316.5 1533,-316.5 1533,-310.5 1539,-304.5 1545,-304.5 1545,-304.5 1620,-304.5 1620,-304.5 1626,-304.5 1632,-310.5 1632,-316.5 1632,-316.5 1632,-345.5 1632,-345.5 1632,-351.5 1626,-357.5 1620,-357.5\"/>\n<text text-anchor=\"start\" x=\"1553\" y=\"-342.3\" font-family=\"Helvetica,sans-Serif\" font-size=\"14.00\" fill=\"#000000\">gini = 0.0</text>\n<text text-anchor=\"start\" x=\"1543\" y=\"-327.3\" font-family=\"Helvetica,sans-Serif\" font-size=\"14.00\" fill=\"#000000\">samples = 2</text>\n<text text-anchor=\"start\" x=\"1541\" y=\"-312.3\" font-family=\"Helvetica,sans-Serif\" font-size=\"14.00\" fill=\"#000000\">value = [0, 2]</text>\n</g>\n<!-- 32&#45;&gt;38 -->\n<g id=\"edge38\" class=\"edge\">\n<title>32&#45;&gt;38</title>\n<path fill=\"none\" stroke=\"#000000\" d=\"M1493.7217,-400.9465C1508.8206,-389.0504 1525.7324,-375.726 1540.7122,-363.9237\"/>\n<polygon fill=\"#000000\" stroke=\"#000000\" points=\"1543.123,-366.4802 1548.8119,-357.5422 1538.7909,-360.9817 1543.123,-366.4802\"/>\n</g>\n<!-- 34 -->\n<g id=\"node35\" class=\"node\">\n<title>34</title>\n<path fill=\"#ffffff\" stroke=\"#000000\" d=\"M1475,-261C1475,-261 1320,-261 1320,-261 1314,-261 1308,-255 1308,-249 1308,-249 1308,-205 1308,-205 1308,-199 1314,-193 1320,-193 1320,-193 1475,-193 1475,-193 1481,-193 1487,-199 1487,-205 1487,-205 1487,-249 1487,-249 1487,-255 1481,-261 1475,-261\"/>\n<text text-anchor=\"start\" x=\"1316\" y=\"-245.8\" font-family=\"Helvetica,sans-Serif\" font-size=\"14.00\" fill=\"#000000\">ejection_fraction ≤ &#45;0.752</text>\n<text text-anchor=\"start\" x=\"1368\" y=\"-230.8\" font-family=\"Helvetica,sans-Serif\" font-size=\"14.00\" fill=\"#000000\">gini = 0.5</text>\n<text text-anchor=\"start\" x=\"1358\" y=\"-215.8\" font-family=\"Helvetica,sans-Serif\" font-size=\"14.00\" fill=\"#000000\">samples = 2</text>\n<text text-anchor=\"start\" x=\"1356\" y=\"-200.8\" font-family=\"Helvetica,sans-Serif\" font-size=\"14.00\" fill=\"#000000\">value = [1, 1]</text>\n</g>\n<!-- 33&#45;&gt;34 -->\n<g id=\"edge34\" class=\"edge\">\n<title>33&#45;&gt;34</title>\n<path fill=\"none\" stroke=\"#000000\" d=\"M1433.1458,-296.9465C1428.799,-288.4169 1424.078,-279.153 1419.537,-270.2424\"/>\n<polygon fill=\"#000000\" stroke=\"#000000\" points=\"1422.5522,-268.4505 1414.8932,-261.13 1416.3154,-271.629 1422.5522,-268.4505\"/>\n</g>\n<!-- 37 -->\n<g id=\"node38\" class=\"node\">\n<title>37</title>\n<path fill=\"#e58139\" stroke=\"#000000\" d=\"M1592,-253.5C1592,-253.5 1517,-253.5 1517,-253.5 1511,-253.5 1505,-247.5 1505,-241.5 1505,-241.5 1505,-212.5 1505,-212.5 1505,-206.5 1511,-200.5 1517,-200.5 1517,-200.5 1592,-200.5 1592,-200.5 1598,-200.5 1604,-206.5 1604,-212.5 1604,-212.5 1604,-241.5 1604,-241.5 1604,-247.5 1598,-253.5 1592,-253.5\"/>\n<text text-anchor=\"start\" x=\"1525\" y=\"-238.3\" font-family=\"Helvetica,sans-Serif\" font-size=\"14.00\" fill=\"#000000\">gini = 0.0</text>\n<text text-anchor=\"start\" x=\"1515\" y=\"-223.3\" font-family=\"Helvetica,sans-Serif\" font-size=\"14.00\" fill=\"#000000\">samples = 6</text>\n<text text-anchor=\"start\" x=\"1513\" y=\"-208.3\" font-family=\"Helvetica,sans-Serif\" font-size=\"14.00\" fill=\"#000000\">value = [6, 0]</text>\n</g>\n<!-- 33&#45;&gt;37 -->\n<g id=\"edge37\" class=\"edge\">\n<title>33&#45;&gt;37</title>\n<path fill=\"none\" stroke=\"#000000\" d=\"M1484.5535,-296.9465C1496.1191,-285.3809 1509.0348,-272.4652 1520.5893,-260.9107\"/>\n<polygon fill=\"#000000\" stroke=\"#000000\" points=\"1523.3616,-263.0881 1527.9578,-253.5422 1518.4119,-258.1384 1523.3616,-263.0881\"/>\n</g>\n<!-- 35 -->\n<g id=\"node36\" class=\"node\">\n<title>35</title>\n<path fill=\"#e58139\" stroke=\"#000000\" d=\"M1376,-149.5C1376,-149.5 1301,-149.5 1301,-149.5 1295,-149.5 1289,-143.5 1289,-137.5 1289,-137.5 1289,-108.5 1289,-108.5 1289,-102.5 1295,-96.5 1301,-96.5 1301,-96.5 1376,-96.5 1376,-96.5 1382,-96.5 1388,-102.5 1388,-108.5 1388,-108.5 1388,-137.5 1388,-137.5 1388,-143.5 1382,-149.5 1376,-149.5\"/>\n<text text-anchor=\"start\" x=\"1309\" y=\"-134.3\" font-family=\"Helvetica,sans-Serif\" font-size=\"14.00\" fill=\"#000000\">gini = 0.0</text>\n<text text-anchor=\"start\" x=\"1299\" y=\"-119.3\" font-family=\"Helvetica,sans-Serif\" font-size=\"14.00\" fill=\"#000000\">samples = 1</text>\n<text text-anchor=\"start\" x=\"1297\" y=\"-104.3\" font-family=\"Helvetica,sans-Serif\" font-size=\"14.00\" fill=\"#000000\">value = [1, 0]</text>\n</g>\n<!-- 34&#45;&gt;35 -->\n<g id=\"edge35\" class=\"edge\">\n<title>34&#45;&gt;35</title>\n<path fill=\"none\" stroke=\"#000000\" d=\"M1378.1812,-192.9465C1371.9324,-181.9316 1364.9888,-169.6922 1358.6793,-158.5703\"/>\n<polygon fill=\"#000000\" stroke=\"#000000\" points=\"1361.5362,-156.513 1353.5576,-149.5422 1355.4477,-159.967 1361.5362,-156.513\"/>\n</g>\n<!-- 36 -->\n<g id=\"node37\" class=\"node\">\n<title>36</title>\n<path fill=\"#399de5\" stroke=\"#000000\" d=\"M1493,-149.5C1493,-149.5 1418,-149.5 1418,-149.5 1412,-149.5 1406,-143.5 1406,-137.5 1406,-137.5 1406,-108.5 1406,-108.5 1406,-102.5 1412,-96.5 1418,-96.5 1418,-96.5 1493,-96.5 1493,-96.5 1499,-96.5 1505,-102.5 1505,-108.5 1505,-108.5 1505,-137.5 1505,-137.5 1505,-143.5 1499,-149.5 1493,-149.5\"/>\n<text text-anchor=\"start\" x=\"1426\" y=\"-134.3\" font-family=\"Helvetica,sans-Serif\" font-size=\"14.00\" fill=\"#000000\">gini = 0.0</text>\n<text text-anchor=\"start\" x=\"1416\" y=\"-119.3\" font-family=\"Helvetica,sans-Serif\" font-size=\"14.00\" fill=\"#000000\">samples = 1</text>\n<text text-anchor=\"start\" x=\"1414\" y=\"-104.3\" font-family=\"Helvetica,sans-Serif\" font-size=\"14.00\" fill=\"#000000\">value = [0, 1]</text>\n</g>\n<!-- 34&#45;&gt;36 -->\n<g id=\"edge36\" class=\"edge\">\n<title>34&#45;&gt;36</title>\n<path fill=\"none\" stroke=\"#000000\" d=\"M1416.4914,-192.9465C1422.6343,-181.9316 1429.4601,-169.6922 1435.6627,-158.5703\"/>\n<polygon fill=\"#000000\" stroke=\"#000000\" points=\"1438.8837,-159.9806 1440.6976,-149.5422 1432.7701,-156.5711 1438.8837,-159.9806\"/>\n</g>\n<!-- 41 -->\n<g id=\"node42\" class=\"node\">\n<title>41</title>\n<path fill=\"#e58139\" stroke=\"#000000\" d=\"M1683,-669.5C1683,-669.5 1608,-669.5 1608,-669.5 1602,-669.5 1596,-663.5 1596,-657.5 1596,-657.5 1596,-628.5 1596,-628.5 1596,-622.5 1602,-616.5 1608,-616.5 1608,-616.5 1683,-616.5 1683,-616.5 1689,-616.5 1695,-622.5 1695,-628.5 1695,-628.5 1695,-657.5 1695,-657.5 1695,-663.5 1689,-669.5 1683,-669.5\"/>\n<text text-anchor=\"start\" x=\"1616\" y=\"-654.3\" font-family=\"Helvetica,sans-Serif\" font-size=\"14.00\" fill=\"#000000\">gini = 0.0</text>\n<text text-anchor=\"start\" x=\"1606\" y=\"-639.3\" font-family=\"Helvetica,sans-Serif\" font-size=\"14.00\" fill=\"#000000\">samples = 8</text>\n<text text-anchor=\"start\" x=\"1604\" y=\"-624.3\" font-family=\"Helvetica,sans-Serif\" font-size=\"14.00\" fill=\"#000000\">value = [8, 0]</text>\n</g>\n<!-- 40&#45;&gt;41 -->\n<g id=\"edge41\" class=\"edge\">\n<title>40&#45;&gt;41</title>\n<path fill=\"none\" stroke=\"#000000\" d=\"M1645.5,-712.9465C1645.5,-702.2621 1645.5,-690.4254 1645.5,-679.5742\"/>\n<polygon fill=\"#000000\" stroke=\"#000000\" points=\"1649.0001,-679.5421 1645.5,-669.5422 1642.0001,-679.5422 1649.0001,-679.5421\"/>\n</g>\n<!-- 42 -->\n<g id=\"node43\" class=\"node\">\n<title>42</title>\n<path fill=\"#6cb6ec\" stroke=\"#000000\" d=\"M1929.5,-677C1929.5,-677 1837.5,-677 1837.5,-677 1831.5,-677 1825.5,-671 1825.5,-665 1825.5,-665 1825.5,-621 1825.5,-621 1825.5,-615 1831.5,-609 1837.5,-609 1837.5,-609 1929.5,-609 1929.5,-609 1935.5,-609 1941.5,-615 1941.5,-621 1941.5,-621 1941.5,-665 1941.5,-665 1941.5,-671 1935.5,-677 1929.5,-677\"/>\n<text text-anchor=\"start\" x=\"1845.5\" y=\"-661.8\" font-family=\"Helvetica,sans-Serif\" font-size=\"14.00\" fill=\"#000000\">sex ≤ 0.911</text>\n<text text-anchor=\"start\" x=\"1845.5\" y=\"-646.8\" font-family=\"Helvetica,sans-Serif\" font-size=\"14.00\" fill=\"#000000\">gini = 0.324</text>\n<text text-anchor=\"start\" x=\"1839.5\" y=\"-631.8\" font-family=\"Helvetica,sans-Serif\" font-size=\"14.00\" fill=\"#000000\">samples = 54</text>\n<text text-anchor=\"start\" x=\"1833.5\" y=\"-616.8\" font-family=\"Helvetica,sans-Serif\" font-size=\"14.00\" fill=\"#000000\">value = [11, 43]</text>\n</g>\n<!-- 40&#45;&gt;42 -->\n<g id=\"edge42\" class=\"edge\">\n<title>40&#45;&gt;42</title>\n<path fill=\"none\" stroke=\"#000000\" d=\"M1709.5927,-718.9931C1742.5649,-704.5851 1782.7401,-687.0295 1816.1662,-672.4232\"/>\n<polygon fill=\"#000000\" stroke=\"#000000\" points=\"1817.6417,-675.5981 1825.4035,-668.3867 1814.8387,-669.1837 1817.6417,-675.5981\"/>\n</g>\n<!-- 43 -->\n<g id=\"node44\" class=\"node\">\n<title>43</title>\n<path fill=\"#5baee9\" stroke=\"#000000\" d=\"M1925,-573C1925,-573 1842,-573 1842,-573 1836,-573 1830,-567 1830,-561 1830,-561 1830,-517 1830,-517 1830,-511 1836,-505 1842,-505 1842,-505 1925,-505 1925,-505 1931,-505 1937,-511 1937,-517 1937,-517 1937,-561 1937,-561 1937,-567 1931,-573 1925,-573\"/>\n<text text-anchor=\"start\" x=\"1845.5\" y=\"-557.8\" font-family=\"Helvetica,sans-Serif\" font-size=\"14.00\" fill=\"#000000\">time ≤ &#45;1.01</text>\n<text text-anchor=\"start\" x=\"1845.5\" y=\"-542.8\" font-family=\"Helvetica,sans-Serif\" font-size=\"14.00\" fill=\"#000000\">gini = 0.249</text>\n<text text-anchor=\"start\" x=\"1839.5\" y=\"-527.8\" font-family=\"Helvetica,sans-Serif\" font-size=\"14.00\" fill=\"#000000\">samples = 48</text>\n<text text-anchor=\"start\" x=\"1838\" y=\"-512.8\" font-family=\"Helvetica,sans-Serif\" font-size=\"14.00\" fill=\"#000000\">value = [7, 41]</text>\n</g>\n<!-- 42&#45;&gt;43 -->\n<g id=\"edge43\" class=\"edge\">\n<title>42&#45;&gt;43</title>\n<path fill=\"none\" stroke=\"#000000\" d=\"M1883.5,-608.9465C1883.5,-600.776 1883.5,-591.9318 1883.5,-583.3697\"/>\n<polygon fill=\"#000000\" stroke=\"#000000\" points=\"1887.0001,-583.13 1883.5,-573.13 1880.0001,-583.13 1887.0001,-583.13\"/>\n</g>\n<!-- 58 -->\n<g id=\"node59\" class=\"node\">\n<title>58</title>\n<path fill=\"#f2c09c\" stroke=\"#000000\" d=\"M2211,-573C2211,-573 2110,-573 2110,-573 2104,-573 2098,-567 2098,-561 2098,-561 2098,-517 2098,-517 2098,-511 2104,-505 2110,-505 2110,-505 2211,-505 2211,-505 2217,-505 2223,-511 2223,-517 2223,-517 2223,-561 2223,-561 2223,-567 2217,-573 2211,-573\"/>\n<text text-anchor=\"start\" x=\"2106\" y=\"-557.8\" font-family=\"Helvetica,sans-Serif\" font-size=\"14.00\" fill=\"#000000\">anaemia ≤ 2.655</text>\n<text text-anchor=\"start\" x=\"2122.5\" y=\"-542.8\" font-family=\"Helvetica,sans-Serif\" font-size=\"14.00\" fill=\"#000000\">gini = 0.444</text>\n<text text-anchor=\"start\" x=\"2121\" y=\"-527.8\" font-family=\"Helvetica,sans-Serif\" font-size=\"14.00\" fill=\"#000000\">samples = 6</text>\n<text text-anchor=\"start\" x=\"2119\" y=\"-512.8\" font-family=\"Helvetica,sans-Serif\" font-size=\"14.00\" fill=\"#000000\">value = [4, 2]</text>\n</g>\n<!-- 42&#45;&gt;58 -->\n<g id=\"edge58\" class=\"edge\">\n<title>42&#45;&gt;58</title>\n<path fill=\"none\" stroke=\"#000000\" d=\"M1941.5683,-621.1982C1984.2234,-605.1833 2042.4549,-583.3202 2088.1396,-566.1678\"/>\n<polygon fill=\"#000000\" stroke=\"#000000\" points=\"2089.556,-569.3746 2097.6877,-562.583 2087.0955,-562.8213 2089.556,-569.3746\"/>\n</g>\n<!-- 44 -->\n<g id=\"node45\" class=\"node\">\n<title>44</title>\n<path fill=\"#f6d5bd\" stroke=\"#000000\" d=\"M1856.5,-469C1856.5,-469 1700.5,-469 1700.5,-469 1694.5,-469 1688.5,-463 1688.5,-457 1688.5,-457 1688.5,-413 1688.5,-413 1688.5,-407 1694.5,-401 1700.5,-401 1700.5,-401 1856.5,-401 1856.5,-401 1862.5,-401 1868.5,-407 1868.5,-413 1868.5,-413 1868.5,-457 1868.5,-457 1868.5,-463 1862.5,-469 1856.5,-469\"/>\n<text text-anchor=\"start\" x=\"1696.5\" y=\"-453.8\" font-family=\"Helvetica,sans-Serif\" font-size=\"14.00\" fill=\"#000000\">serum_creatinine ≤ 0.001</text>\n<text text-anchor=\"start\" x=\"1745\" y=\"-438.8\" font-family=\"Helvetica,sans-Serif\" font-size=\"14.00\" fill=\"#000000\">gini = 0.48</text>\n<text text-anchor=\"start\" x=\"1739\" y=\"-423.8\" font-family=\"Helvetica,sans-Serif\" font-size=\"14.00\" fill=\"#000000\">samples = 5</text>\n<text text-anchor=\"start\" x=\"1737\" y=\"-408.8\" font-family=\"Helvetica,sans-Serif\" font-size=\"14.00\" fill=\"#000000\">value = [3, 2]</text>\n</g>\n<!-- 43&#45;&gt;44 -->\n<g id=\"edge44\" class=\"edge\">\n<title>43&#45;&gt;44</title>\n<path fill=\"none\" stroke=\"#000000\" d=\"M1849.1191,-504.9465C1839.8729,-495.7884 1829.7721,-485.7838 1820.1757,-476.2788\"/>\n<polygon fill=\"#000000\" stroke=\"#000000\" points=\"1822.526,-473.6805 1812.9582,-469.13 1817.6,-478.6539 1822.526,-473.6805\"/>\n</g>\n<!-- 47 -->\n<g id=\"node48\" class=\"node\">\n<title>47</title>\n<path fill=\"#4da7e8\" stroke=\"#000000\" d=\"M2080.5,-469C2080.5,-469 1898.5,-469 1898.5,-469 1892.5,-469 1886.5,-463 1886.5,-457 1886.5,-457 1886.5,-413 1886.5,-413 1886.5,-407 1892.5,-401 1898.5,-401 1898.5,-401 2080.5,-401 2080.5,-401 2086.5,-401 2092.5,-407 2092.5,-413 2092.5,-413 2092.5,-457 2092.5,-457 2092.5,-463 2086.5,-469 2080.5,-469\"/>\n<text text-anchor=\"start\" x=\"1894.5\" y=\"-453.8\" font-family=\"Helvetica,sans-Serif\" font-size=\"14.00\" fill=\"#000000\">high_blood_pressure ≤ 2.485</text>\n<text text-anchor=\"start\" x=\"1951.5\" y=\"-438.8\" font-family=\"Helvetica,sans-Serif\" font-size=\"14.00\" fill=\"#000000\">gini = 0.169</text>\n<text text-anchor=\"start\" x=\"1945.5\" y=\"-423.8\" font-family=\"Helvetica,sans-Serif\" font-size=\"14.00\" fill=\"#000000\">samples = 43</text>\n<text text-anchor=\"start\" x=\"1944\" y=\"-408.8\" font-family=\"Helvetica,sans-Serif\" font-size=\"14.00\" fill=\"#000000\">value = [4, 39]</text>\n</g>\n<!-- 43&#45;&gt;47 -->\n<g id=\"edge47\" class=\"edge\">\n<title>43&#45;&gt;47</title>\n<path fill=\"none\" stroke=\"#000000\" d=\"M1918.2084,-504.9465C1927.5426,-495.7884 1937.7396,-485.7838 1947.4273,-476.2788\"/>\n<polygon fill=\"#000000\" stroke=\"#000000\" points=\"1950.0267,-478.6318 1954.7137,-469.13 1945.1243,-473.6351 1950.0267,-478.6318\"/>\n</g>\n<!-- 45 -->\n<g id=\"node46\" class=\"node\">\n<title>45</title>\n<path fill=\"#e58139\" stroke=\"#000000\" d=\"M1737,-357.5C1737,-357.5 1662,-357.5 1662,-357.5 1656,-357.5 1650,-351.5 1650,-345.5 1650,-345.5 1650,-316.5 1650,-316.5 1650,-310.5 1656,-304.5 1662,-304.5 1662,-304.5 1737,-304.5 1737,-304.5 1743,-304.5 1749,-310.5 1749,-316.5 1749,-316.5 1749,-345.5 1749,-345.5 1749,-351.5 1743,-357.5 1737,-357.5\"/>\n<text text-anchor=\"start\" x=\"1670\" y=\"-342.3\" font-family=\"Helvetica,sans-Serif\" font-size=\"14.00\" fill=\"#000000\">gini = 0.0</text>\n<text text-anchor=\"start\" x=\"1660\" y=\"-327.3\" font-family=\"Helvetica,sans-Serif\" font-size=\"14.00\" fill=\"#000000\">samples = 3</text>\n<text text-anchor=\"start\" x=\"1658\" y=\"-312.3\" font-family=\"Helvetica,sans-Serif\" font-size=\"14.00\" fill=\"#000000\">value = [3, 0]</text>\n</g>\n<!-- 44&#45;&gt;45 -->\n<g id=\"edge45\" class=\"edge\">\n<title>44&#45;&gt;45</title>\n<path fill=\"none\" stroke=\"#000000\" d=\"M1752.6324,-400.9465C1744.0143,-389.6012 1734.4094,-376.9567 1725.7617,-365.5724\"/>\n<polygon fill=\"#000000\" stroke=\"#000000\" points=\"1728.4979,-363.3882 1719.6618,-357.5422 1722.9237,-367.6224 1728.4979,-363.3882\"/>\n</g>\n<!-- 46 -->\n<g id=\"node47\" class=\"node\">\n<title>46</title>\n<path fill=\"#399de5\" stroke=\"#000000\" d=\"M1854,-357.5C1854,-357.5 1779,-357.5 1779,-357.5 1773,-357.5 1767,-351.5 1767,-345.5 1767,-345.5 1767,-316.5 1767,-316.5 1767,-310.5 1773,-304.5 1779,-304.5 1779,-304.5 1854,-304.5 1854,-304.5 1860,-304.5 1866,-310.5 1866,-316.5 1866,-316.5 1866,-345.5 1866,-345.5 1866,-351.5 1860,-357.5 1854,-357.5\"/>\n<text text-anchor=\"start\" x=\"1787\" y=\"-342.3\" font-family=\"Helvetica,sans-Serif\" font-size=\"14.00\" fill=\"#000000\">gini = 0.0</text>\n<text text-anchor=\"start\" x=\"1777\" y=\"-327.3\" font-family=\"Helvetica,sans-Serif\" font-size=\"14.00\" fill=\"#000000\">samples = 2</text>\n<text text-anchor=\"start\" x=\"1775\" y=\"-312.3\" font-family=\"Helvetica,sans-Serif\" font-size=\"14.00\" fill=\"#000000\">value = [0, 2]</text>\n</g>\n<!-- 44&#45;&gt;46 -->\n<g id=\"edge46\" class=\"edge\">\n<title>44&#45;&gt;46</title>\n<path fill=\"none\" stroke=\"#000000\" d=\"M1790.9426,-400.9465C1794.8868,-390.1519 1799.2607,-378.1813 1803.2589,-367.2389\"/>\n<polygon fill=\"#000000\" stroke=\"#000000\" points=\"1806.6573,-368.136 1806.8019,-357.5422 1800.0825,-365.7336 1806.6573,-368.136\"/>\n</g>\n<!-- 48 -->\n<g id=\"node49\" class=\"node\">\n<title>48</title>\n<path fill=\"#48a5e7\" stroke=\"#000000\" d=\"M2082.5,-365C2082.5,-365 1896.5,-365 1896.5,-365 1890.5,-365 1884.5,-359 1884.5,-353 1884.5,-353 1884.5,-309 1884.5,-309 1884.5,-303 1890.5,-297 1896.5,-297 1896.5,-297 2082.5,-297 2082.5,-297 2088.5,-297 2094.5,-303 2094.5,-309 2094.5,-309 2094.5,-353 2094.5,-353 2094.5,-359 2088.5,-365 2082.5,-365\"/>\n<text text-anchor=\"start\" x=\"1892.5\" y=\"-349.8\" font-family=\"Helvetica,sans-Serif\" font-size=\"14.00\" fill=\"#000000\">high_blood_pressure ≤ &#45;1.074</text>\n<text text-anchor=\"start\" x=\"1951.5\" y=\"-334.8\" font-family=\"Helvetica,sans-Serif\" font-size=\"14.00\" fill=\"#000000\">gini = 0.133</text>\n<text text-anchor=\"start\" x=\"1945.5\" y=\"-319.8\" font-family=\"Helvetica,sans-Serif\" font-size=\"14.00\" fill=\"#000000\">samples = 42</text>\n<text text-anchor=\"start\" x=\"1944\" y=\"-304.8\" font-family=\"Helvetica,sans-Serif\" font-size=\"14.00\" fill=\"#000000\">value = [3, 39]</text>\n</g>\n<!-- 47&#45;&gt;48 -->\n<g id=\"edge48\" class=\"edge\">\n<title>47&#45;&gt;48</title>\n<path fill=\"none\" stroke=\"#000000\" d=\"M1989.5,-400.9465C1989.5,-392.776 1989.5,-383.9318 1989.5,-375.3697\"/>\n<polygon fill=\"#000000\" stroke=\"#000000\" points=\"1993.0001,-375.13 1989.5,-365.13 1986.0001,-375.13 1993.0001,-375.13\"/>\n</g>\n<!-- 57 -->\n<g id=\"node58\" class=\"node\">\n<title>57</title>\n<path fill=\"#e58139\" stroke=\"#000000\" d=\"M2200,-357.5C2200,-357.5 2125,-357.5 2125,-357.5 2119,-357.5 2113,-351.5 2113,-345.5 2113,-345.5 2113,-316.5 2113,-316.5 2113,-310.5 2119,-304.5 2125,-304.5 2125,-304.5 2200,-304.5 2200,-304.5 2206,-304.5 2212,-310.5 2212,-316.5 2212,-316.5 2212,-345.5 2212,-345.5 2212,-351.5 2206,-357.5 2200,-357.5\"/>\n<text text-anchor=\"start\" x=\"2133\" y=\"-342.3\" font-family=\"Helvetica,sans-Serif\" font-size=\"14.00\" fill=\"#000000\">gini = 0.0</text>\n<text text-anchor=\"start\" x=\"2123\" y=\"-327.3\" font-family=\"Helvetica,sans-Serif\" font-size=\"14.00\" fill=\"#000000\">samples = 1</text>\n<text text-anchor=\"start\" x=\"2121\" y=\"-312.3\" font-family=\"Helvetica,sans-Serif\" font-size=\"14.00\" fill=\"#000000\">value = [1, 0]</text>\n</g>\n<!-- 47&#45;&gt;57 -->\n<g id=\"edge57\" class=\"edge\">\n<title>47&#45;&gt;57</title>\n<path fill=\"none\" stroke=\"#000000\" d=\"M2046.1467,-400.9465C2066.5767,-388.6649 2089.5391,-374.8609 2109.6333,-362.7811\"/>\n<polygon fill=\"#000000\" stroke=\"#000000\" points=\"2111.5809,-365.6942 2118.3481,-357.5422 2107.9743,-359.6948 2111.5809,-365.6942\"/>\n</g>\n<!-- 49 -->\n<g id=\"node50\" class=\"node\">\n<title>49</title>\n<path fill=\"#88c4ef\" stroke=\"#000000\" d=\"M1961,-261C1961,-261 1886,-261 1886,-261 1880,-261 1874,-255 1874,-249 1874,-249 1874,-205 1874,-205 1874,-199 1880,-193 1886,-193 1886,-193 1961,-193 1961,-193 1967,-193 1973,-199 1973,-205 1973,-205 1973,-249 1973,-249 1973,-255 1967,-261 1961,-261\"/>\n<text text-anchor=\"start\" x=\"1882.5\" y=\"-245.8\" font-family=\"Helvetica,sans-Serif\" font-size=\"14.00\" fill=\"#000000\">age ≤ &#45;1.305</text>\n<text text-anchor=\"start\" x=\"1885.5\" y=\"-230.8\" font-family=\"Helvetica,sans-Serif\" font-size=\"14.00\" fill=\"#000000\">gini = 0.408</text>\n<text text-anchor=\"start\" x=\"1884\" y=\"-215.8\" font-family=\"Helvetica,sans-Serif\" font-size=\"14.00\" fill=\"#000000\">samples = 7</text>\n<text text-anchor=\"start\" x=\"1882\" y=\"-200.8\" font-family=\"Helvetica,sans-Serif\" font-size=\"14.00\" fill=\"#000000\">value = [2, 5]</text>\n</g>\n<!-- 48&#45;&gt;49 -->\n<g id=\"edge49\" class=\"edge\">\n<title>48&#45;&gt;49</title>\n<path fill=\"none\" stroke=\"#000000\" d=\"M1967.8891,-296.9465C1962.3622,-288.2373 1956.3494,-278.7626 1950.5854,-269.6801\"/>\n<polygon fill=\"#000000\" stroke=\"#000000\" points=\"1953.4729,-267.6979 1945.1594,-261.13 1947.5626,-271.4487 1953.4729,-267.6979\"/>\n</g>\n<!-- 52 -->\n<g id=\"node53\" class=\"node\">\n<title>52</title>\n<path fill=\"#3fa0e6\" stroke=\"#000000\" d=\"M2107.5,-261C2107.5,-261 2003.5,-261 2003.5,-261 1997.5,-261 1991.5,-255 1991.5,-249 1991.5,-249 1991.5,-205 1991.5,-205 1991.5,-199 1997.5,-193 2003.5,-193 2003.5,-193 2107.5,-193 2107.5,-193 2113.5,-193 2119.5,-199 2119.5,-205 2119.5,-205 2119.5,-249 2119.5,-249 2119.5,-255 2113.5,-261 2107.5,-261\"/>\n<text text-anchor=\"start\" x=\"1999.5\" y=\"-245.8\" font-family=\"Helvetica,sans-Serif\" font-size=\"14.00\" fill=\"#000000\">diabetes ≤ &#45;0.731</text>\n<text text-anchor=\"start\" x=\"2017.5\" y=\"-230.8\" font-family=\"Helvetica,sans-Serif\" font-size=\"14.00\" fill=\"#000000\">gini = 0.056</text>\n<text text-anchor=\"start\" x=\"2011.5\" y=\"-215.8\" font-family=\"Helvetica,sans-Serif\" font-size=\"14.00\" fill=\"#000000\">samples = 35</text>\n<text text-anchor=\"start\" x=\"2010\" y=\"-200.8\" font-family=\"Helvetica,sans-Serif\" font-size=\"14.00\" fill=\"#000000\">value = [1, 34]</text>\n</g>\n<!-- 48&#45;&gt;52 -->\n<g id=\"edge52\" class=\"edge\">\n<title>48&#45;&gt;52</title>\n<path fill=\"none\" stroke=\"#000000\" d=\"M2011.1109,-296.9465C2016.6378,-288.2373 2022.6506,-278.7626 2028.4146,-269.6801\"/>\n<polygon fill=\"#000000\" stroke=\"#000000\" points=\"2031.4374,-271.4487 2033.8406,-261.13 2025.5271,-267.6979 2031.4374,-271.4487\"/>\n</g>\n<!-- 50 -->\n<g id=\"node51\" class=\"node\">\n<title>50</title>\n<path fill=\"#e58139\" stroke=\"#000000\" d=\"M1845,-149.5C1845,-149.5 1770,-149.5 1770,-149.5 1764,-149.5 1758,-143.5 1758,-137.5 1758,-137.5 1758,-108.5 1758,-108.5 1758,-102.5 1764,-96.5 1770,-96.5 1770,-96.5 1845,-96.5 1845,-96.5 1851,-96.5 1857,-102.5 1857,-108.5 1857,-108.5 1857,-137.5 1857,-137.5 1857,-143.5 1851,-149.5 1845,-149.5\"/>\n<text text-anchor=\"start\" x=\"1778\" y=\"-134.3\" font-family=\"Helvetica,sans-Serif\" font-size=\"14.00\" fill=\"#000000\">gini = 0.0</text>\n<text text-anchor=\"start\" x=\"1768\" y=\"-119.3\" font-family=\"Helvetica,sans-Serif\" font-size=\"14.00\" fill=\"#000000\">samples = 2</text>\n<text text-anchor=\"start\" x=\"1766\" y=\"-104.3\" font-family=\"Helvetica,sans-Serif\" font-size=\"14.00\" fill=\"#000000\">value = [2, 0]</text>\n</g>\n<!-- 49&#45;&gt;50 -->\n<g id=\"edge50\" class=\"edge\">\n<title>49&#45;&gt;50</title>\n<path fill=\"none\" stroke=\"#000000\" d=\"M1885.5173,-192.9465C1872.3714,-181.1606 1857.6618,-167.9726 1844.5887,-156.2519\"/>\n<polygon fill=\"#000000\" stroke=\"#000000\" points=\"1846.8869,-153.6116 1837.1047,-149.5422 1842.214,-158.8236 1846.8869,-153.6116\"/>\n</g>\n<!-- 51 -->\n<g id=\"node52\" class=\"node\">\n<title>51</title>\n<path fill=\"#399de5\" stroke=\"#000000\" d=\"M1962,-149.5C1962,-149.5 1887,-149.5 1887,-149.5 1881,-149.5 1875,-143.5 1875,-137.5 1875,-137.5 1875,-108.5 1875,-108.5 1875,-102.5 1881,-96.5 1887,-96.5 1887,-96.5 1962,-96.5 1962,-96.5 1968,-96.5 1974,-102.5 1974,-108.5 1974,-108.5 1974,-137.5 1974,-137.5 1974,-143.5 1968,-149.5 1962,-149.5\"/>\n<text text-anchor=\"start\" x=\"1895\" y=\"-134.3\" font-family=\"Helvetica,sans-Serif\" font-size=\"14.00\" fill=\"#000000\">gini = 0.0</text>\n<text text-anchor=\"start\" x=\"1885\" y=\"-119.3\" font-family=\"Helvetica,sans-Serif\" font-size=\"14.00\" fill=\"#000000\">samples = 5</text>\n<text text-anchor=\"start\" x=\"1883\" y=\"-104.3\" font-family=\"Helvetica,sans-Serif\" font-size=\"14.00\" fill=\"#000000\">value = [0, 5]</text>\n</g>\n<!-- 49&#45;&gt;51 -->\n<g id=\"edge51\" class=\"edge\">\n<title>49&#45;&gt;51</title>\n<path fill=\"none\" stroke=\"#000000\" d=\"M1923.8274,-192.9465C1923.9302,-182.2621 1924.044,-170.4254 1924.1483,-159.5742\"/>\n<polygon fill=\"#000000\" stroke=\"#000000\" points=\"1927.6484,-159.5754 1924.2448,-149.5422 1920.6487,-159.508 1927.6484,-159.5754\"/>\n</g>\n<!-- 53 -->\n<g id=\"node54\" class=\"node\">\n<title>53</title>\n<path fill=\"#6ab6ec\" stroke=\"#000000\" d=\"M2103.5,-157C2103.5,-157 2005.5,-157 2005.5,-157 1999.5,-157 1993.5,-151 1993.5,-145 1993.5,-145 1993.5,-101 1993.5,-101 1993.5,-95 1999.5,-89 2005.5,-89 2005.5,-89 2103.5,-89 2103.5,-89 2109.5,-89 2115.5,-95 2115.5,-101 2115.5,-101 2115.5,-145 2115.5,-145 2115.5,-151 2109.5,-157 2103.5,-157\"/>\n<text text-anchor=\"start\" x=\"2001.5\" y=\"-141.8\" font-family=\"Helvetica,sans-Serif\" font-size=\"14.00\" fill=\"#000000\">platelets ≤ 1.031</text>\n<text text-anchor=\"start\" x=\"2021\" y=\"-126.8\" font-family=\"Helvetica,sans-Serif\" font-size=\"14.00\" fill=\"#000000\">gini = 0.32</text>\n<text text-anchor=\"start\" x=\"2015\" y=\"-111.8\" font-family=\"Helvetica,sans-Serif\" font-size=\"14.00\" fill=\"#000000\">samples = 5</text>\n<text text-anchor=\"start\" x=\"2013\" y=\"-96.8\" font-family=\"Helvetica,sans-Serif\" font-size=\"14.00\" fill=\"#000000\">value = [1, 4]</text>\n</g>\n<!-- 52&#45;&gt;53 -->\n<g id=\"edge53\" class=\"edge\">\n<title>52&#45;&gt;53</title>\n<path fill=\"none\" stroke=\"#000000\" d=\"M2055.1726,-192.9465C2055.094,-184.776 2055.009,-175.9318 2054.9266,-167.3697\"/>\n<polygon fill=\"#000000\" stroke=\"#000000\" points=\"2058.4243,-167.0958 2054.8282,-157.13 2051.4246,-167.1632 2058.4243,-167.0958\"/>\n</g>\n<!-- 56 -->\n<g id=\"node57\" class=\"node\">\n<title>56</title>\n<path fill=\"#399de5\" stroke=\"#000000\" d=\"M2229,-149.5C2229,-149.5 2146,-149.5 2146,-149.5 2140,-149.5 2134,-143.5 2134,-137.5 2134,-137.5 2134,-108.5 2134,-108.5 2134,-102.5 2140,-96.5 2146,-96.5 2146,-96.5 2229,-96.5 2229,-96.5 2235,-96.5 2241,-102.5 2241,-108.5 2241,-108.5 2241,-137.5 2241,-137.5 2241,-143.5 2235,-149.5 2229,-149.5\"/>\n<text text-anchor=\"start\" x=\"2158\" y=\"-134.3\" font-family=\"Helvetica,sans-Serif\" font-size=\"14.00\" fill=\"#000000\">gini = 0.0</text>\n<text text-anchor=\"start\" x=\"2143.5\" y=\"-119.3\" font-family=\"Helvetica,sans-Serif\" font-size=\"14.00\" fill=\"#000000\">samples = 30</text>\n<text text-anchor=\"start\" x=\"2142\" y=\"-104.3\" font-family=\"Helvetica,sans-Serif\" font-size=\"14.00\" fill=\"#000000\">value = [0, 30]</text>\n</g>\n<!-- 52&#45;&gt;56 -->\n<g id=\"edge56\" class=\"edge\">\n<title>52&#45;&gt;56</title>\n<path fill=\"none\" stroke=\"#000000\" d=\"M2098.7217,-192.9465C2113.8206,-181.0504 2130.7324,-167.726 2145.7122,-155.9237\"/>\n<polygon fill=\"#000000\" stroke=\"#000000\" points=\"2148.123,-158.4802 2153.8119,-149.5422 2143.7909,-152.9817 2148.123,-158.4802\"/>\n</g>\n<!-- 54 -->\n<g id=\"node55\" class=\"node\">\n<title>54</title>\n<path fill=\"#399de5\" stroke=\"#000000\" d=\"M2034,-53C2034,-53 1959,-53 1959,-53 1953,-53 1947,-47 1947,-41 1947,-41 1947,-12 1947,-12 1947,-6 1953,0 1959,0 1959,0 2034,0 2034,0 2040,0 2046,-6 2046,-12 2046,-12 2046,-41 2046,-41 2046,-47 2040,-53 2034,-53\"/>\n<text text-anchor=\"start\" x=\"1967\" y=\"-37.8\" font-family=\"Helvetica,sans-Serif\" font-size=\"14.00\" fill=\"#000000\">gini = 0.0</text>\n<text text-anchor=\"start\" x=\"1957\" y=\"-22.8\" font-family=\"Helvetica,sans-Serif\" font-size=\"14.00\" fill=\"#000000\">samples = 4</text>\n<text text-anchor=\"start\" x=\"1955\" y=\"-7.8\" font-family=\"Helvetica,sans-Serif\" font-size=\"14.00\" fill=\"#000000\">value = [0, 4]</text>\n</g>\n<!-- 53&#45;&gt;54 -->\n<g id=\"edge54\" class=\"edge\">\n<title>53&#45;&gt;54</title>\n<path fill=\"none\" stroke=\"#000000\" d=\"M2034.0514,-88.9777C2028.7678,-80.187 2023.0684,-70.7044 2017.7452,-61.8477\"/>\n<polygon fill=\"#000000\" stroke=\"#000000\" points=\"2020.7282,-60.0165 2012.5768,-53.2485 2014.7285,-63.6225 2020.7282,-60.0165\"/>\n</g>\n<!-- 55 -->\n<g id=\"node56\" class=\"node\">\n<title>55</title>\n<path fill=\"#e58139\" stroke=\"#000000\" d=\"M2151,-53C2151,-53 2076,-53 2076,-53 2070,-53 2064,-47 2064,-41 2064,-41 2064,-12 2064,-12 2064,-6 2070,0 2076,0 2076,0 2151,0 2151,0 2157,0 2163,-6 2163,-12 2163,-12 2163,-41 2163,-41 2163,-47 2157,-53 2151,-53\"/>\n<text text-anchor=\"start\" x=\"2084\" y=\"-37.8\" font-family=\"Helvetica,sans-Serif\" font-size=\"14.00\" fill=\"#000000\">gini = 0.0</text>\n<text text-anchor=\"start\" x=\"2074\" y=\"-22.8\" font-family=\"Helvetica,sans-Serif\" font-size=\"14.00\" fill=\"#000000\">samples = 1</text>\n<text text-anchor=\"start\" x=\"2072\" y=\"-7.8\" font-family=\"Helvetica,sans-Serif\" font-size=\"14.00\" fill=\"#000000\">value = [1, 0]</text>\n</g>\n<!-- 53&#45;&gt;55 -->\n<g id=\"edge55\" class=\"edge\">\n<title>53&#45;&gt;55</title>\n<path fill=\"none\" stroke=\"#000000\" d=\"M2075.3012,-88.9777C2080.6758,-80.187 2086.4735,-70.7044 2091.8885,-61.8477\"/>\n<polygon fill=\"#000000\" stroke=\"#000000\" points=\"2094.9158,-63.6059 2097.146,-53.2485 2088.9436,-59.9545 2094.9158,-63.6059\"/>\n</g>\n<!-- 59 -->\n<g id=\"node60\" class=\"node\">\n<title>59</title>\n<path fill=\"#e58139\" stroke=\"#000000\" d=\"M2198,-461.5C2198,-461.5 2123,-461.5 2123,-461.5 2117,-461.5 2111,-455.5 2111,-449.5 2111,-449.5 2111,-420.5 2111,-420.5 2111,-414.5 2117,-408.5 2123,-408.5 2123,-408.5 2198,-408.5 2198,-408.5 2204,-408.5 2210,-414.5 2210,-420.5 2210,-420.5 2210,-449.5 2210,-449.5 2210,-455.5 2204,-461.5 2198,-461.5\"/>\n<text text-anchor=\"start\" x=\"2131\" y=\"-446.3\" font-family=\"Helvetica,sans-Serif\" font-size=\"14.00\" fill=\"#000000\">gini = 0.0</text>\n<text text-anchor=\"start\" x=\"2121\" y=\"-431.3\" font-family=\"Helvetica,sans-Serif\" font-size=\"14.00\" fill=\"#000000\">samples = 4</text>\n<text text-anchor=\"start\" x=\"2119\" y=\"-416.3\" font-family=\"Helvetica,sans-Serif\" font-size=\"14.00\" fill=\"#000000\">value = [4, 0]</text>\n</g>\n<!-- 58&#45;&gt;59 -->\n<g id=\"edge59\" class=\"edge\">\n<title>58&#45;&gt;59</title>\n<path fill=\"none\" stroke=\"#000000\" d=\"M2160.5,-504.9465C2160.5,-494.2621 2160.5,-482.4254 2160.5,-471.5742\"/>\n<polygon fill=\"#000000\" stroke=\"#000000\" points=\"2164.0001,-471.5421 2160.5,-461.5422 2157.0001,-471.5422 2164.0001,-471.5421\"/>\n</g>\n<!-- 60 -->\n<g id=\"node61\" class=\"node\">\n<title>60</title>\n<path fill=\"#399de5\" stroke=\"#000000\" d=\"M2315,-461.5C2315,-461.5 2240,-461.5 2240,-461.5 2234,-461.5 2228,-455.5 2228,-449.5 2228,-449.5 2228,-420.5 2228,-420.5 2228,-414.5 2234,-408.5 2240,-408.5 2240,-408.5 2315,-408.5 2315,-408.5 2321,-408.5 2327,-414.5 2327,-420.5 2327,-420.5 2327,-449.5 2327,-449.5 2327,-455.5 2321,-461.5 2315,-461.5\"/>\n<text text-anchor=\"start\" x=\"2248\" y=\"-446.3\" font-family=\"Helvetica,sans-Serif\" font-size=\"14.00\" fill=\"#000000\">gini = 0.0</text>\n<text text-anchor=\"start\" x=\"2238\" y=\"-431.3\" font-family=\"Helvetica,sans-Serif\" font-size=\"14.00\" fill=\"#000000\">samples = 2</text>\n<text text-anchor=\"start\" x=\"2236\" y=\"-416.3\" font-family=\"Helvetica,sans-Serif\" font-size=\"14.00\" fill=\"#000000\">value = [0, 2]</text>\n</g>\n<!-- 58&#45;&gt;60 -->\n<g id=\"edge60\" class=\"edge\">\n<title>58&#45;&gt;60</title>\n<path fill=\"none\" stroke=\"#000000\" d=\"M2198.8102,-504.9465C2212.0694,-493.1606 2226.9058,-479.9726 2240.0916,-468.2519\"/>\n<polygon fill=\"#000000\" stroke=\"#000000\" points=\"2242.4912,-470.8018 2247.6401,-461.5422 2237.8407,-465.5699 2242.4912,-470.8018\"/>\n</g>\n</g>\n</svg>\n"
          },
          "metadata": {
            "tags": []
          },
          "execution_count": 221
        }
      ]
    },
    {
      "cell_type": "markdown",
      "metadata": {
        "id": "Lag3ZrpH1ci_"
      },
      "source": [
        "#**ANN**"
      ]
    },
    {
      "cell_type": "code",
      "metadata": {
        "id": "WxY00qCHhEmn"
      },
      "source": [
        "import pandas as pd\n",
        "import numpy as np\n",
        "%matplotlib inline\n",
        "import matplotlib.pyplot as plt\n",
        "from sklearn.preprocessing import MinMaxScaler\n",
        "from sklearn.metrics import r2_score\n",
        "\n",
        "from keras.models import Sequential\n",
        "\n",
        "from keras.layers import Dense\n",
        "from keras.callbacks import EarlyStopping\n",
        "from keras.optimizers import Adam\n",
        "from keras.layers import LSTM\n",
        "\n",
        "import tensorflow as tf\n",
        "from tensorflow import keras\n",
        "import seaborn as sns"
      ],
      "execution_count": null,
      "outputs": []
    },
    {
      "cell_type": "code",
      "metadata": {
        "colab": {
          "base_uri": "https://localhost:8080/"
        },
        "id": "nEN9JQyn4y-4",
        "outputId": "1382e37f-d606-452d-ae5f-931d056fe58c"
      },
      "source": [
        "nn_model = Sequential()\n",
        "nn_model.add(Dense(21, input_dim=Xotrain.shape[1] , activation='relu'))\n",
        "nn_model.add(Dense(12,activation='relu'))\n",
        "nn_model.add(Dense(1,activation='sigmoid'))\n",
        "\n",
        "nn_model.compile(loss='mean_squared_error', optimizer='adam')\n",
        "early_stop = EarlyStopping(monitor='loss', patience=2, verbose=1)\n",
        "history = nn_model.fit(Xotrain, yotrain, epochs=100, batch_size=1, verbose=1, callbacks=[early_stop], shuffle=False)\n"
      ],
      "execution_count": null,
      "outputs": [
        {
          "output_type": "stream",
          "text": [
            "Epoch 1/100\n",
            "239/239 [==============================] - 1s 1ms/step - loss: 0.2497\n",
            "Epoch 2/100\n",
            "239/239 [==============================] - 0s 1ms/step - loss: 0.1997\n",
            "Epoch 3/100\n",
            "239/239 [==============================] - 0s 1ms/step - loss: 0.1723\n",
            "Epoch 4/100\n",
            "239/239 [==============================] - 0s 1ms/step - loss: 0.1531\n",
            "Epoch 5/100\n",
            "239/239 [==============================] - 0s 1ms/step - loss: 0.1413\n",
            "Epoch 6/100\n",
            "239/239 [==============================] - 0s 1ms/step - loss: 0.1329\n",
            "Epoch 7/100\n",
            "239/239 [==============================] - 0s 1ms/step - loss: 0.1274\n",
            "Epoch 8/100\n",
            "239/239 [==============================] - 0s 1ms/step - loss: 0.1230\n",
            "Epoch 9/100\n",
            "239/239 [==============================] - 0s 1ms/step - loss: 0.1191\n",
            "Epoch 10/100\n",
            "239/239 [==============================] - 0s 1ms/step - loss: 0.1155\n",
            "Epoch 11/100\n",
            "239/239 [==============================] - 0s 1ms/step - loss: 0.1126\n",
            "Epoch 12/100\n",
            "239/239 [==============================] - 0s 1ms/step - loss: 0.1096\n",
            "Epoch 13/100\n",
            "239/239 [==============================] - 0s 1ms/step - loss: 0.1066\n",
            "Epoch 14/100\n",
            "239/239 [==============================] - 0s 1ms/step - loss: 0.1035\n",
            "Epoch 15/100\n",
            "239/239 [==============================] - 0s 1ms/step - loss: 0.1012\n",
            "Epoch 16/100\n",
            "239/239 [==============================] - 0s 1ms/step - loss: 0.0990\n",
            "Epoch 17/100\n",
            "239/239 [==============================] - 0s 1ms/step - loss: 0.0969\n",
            "Epoch 18/100\n",
            "239/239 [==============================] - 0s 1ms/step - loss: 0.0941\n",
            "Epoch 19/100\n",
            "239/239 [==============================] - 0s 1ms/step - loss: 0.0919\n",
            "Epoch 20/100\n",
            "239/239 [==============================] - 0s 1ms/step - loss: 0.0900\n",
            "Epoch 21/100\n",
            "239/239 [==============================] - 0s 1ms/step - loss: 0.0876\n",
            "Epoch 22/100\n",
            "239/239 [==============================] - 0s 1ms/step - loss: 0.0853\n",
            "Epoch 23/100\n",
            "239/239 [==============================] - 0s 1ms/step - loss: 0.0830\n",
            "Epoch 24/100\n",
            "239/239 [==============================] - 0s 1ms/step - loss: 0.0808\n",
            "Epoch 25/100\n",
            "239/239 [==============================] - 0s 1ms/step - loss: 0.0780\n",
            "Epoch 26/100\n",
            "239/239 [==============================] - 0s 1ms/step - loss: 0.0751\n",
            "Epoch 27/100\n",
            "239/239 [==============================] - 0s 1ms/step - loss: 0.0723\n",
            "Epoch 28/100\n",
            "239/239 [==============================] - 0s 1ms/step - loss: 0.0687\n",
            "Epoch 29/100\n",
            "239/239 [==============================] - 0s 1ms/step - loss: 0.0663\n",
            "Epoch 30/100\n",
            "239/239 [==============================] - 0s 1ms/step - loss: 0.0633\n",
            "Epoch 31/100\n",
            "239/239 [==============================] - 0s 1ms/step - loss: 0.0609\n",
            "Epoch 32/100\n",
            "239/239 [==============================] - 0s 1ms/step - loss: 0.0580\n",
            "Epoch 33/100\n",
            "239/239 [==============================] - 0s 1ms/step - loss: 0.0557\n",
            "Epoch 34/100\n",
            "239/239 [==============================] - 0s 1ms/step - loss: 0.0536\n",
            "Epoch 35/100\n",
            "239/239 [==============================] - 0s 1ms/step - loss: 0.0521\n",
            "Epoch 36/100\n",
            "239/239 [==============================] - 0s 1ms/step - loss: 0.0496\n",
            "Epoch 37/100\n",
            "239/239 [==============================] - 0s 1ms/step - loss: 0.0479\n",
            "Epoch 38/100\n",
            "239/239 [==============================] - 0s 1ms/step - loss: 0.0460\n",
            "Epoch 39/100\n",
            "239/239 [==============================] - 0s 1ms/step - loss: 0.0439\n",
            "Epoch 40/100\n",
            "239/239 [==============================] - 0s 1ms/step - loss: 0.0418\n",
            "Epoch 41/100\n",
            "239/239 [==============================] - 0s 1ms/step - loss: 0.0412\n",
            "Epoch 42/100\n",
            "239/239 [==============================] - 0s 1ms/step - loss: 0.0388\n",
            "Epoch 43/100\n",
            "239/239 [==============================] - 0s 1ms/step - loss: 0.0367\n",
            "Epoch 44/100\n",
            "239/239 [==============================] - 0s 1ms/step - loss: 0.0360\n",
            "Epoch 45/100\n",
            "239/239 [==============================] - 0s 1ms/step - loss: 0.0338\n",
            "Epoch 46/100\n",
            "239/239 [==============================] - 0s 1ms/step - loss: 0.0324\n",
            "Epoch 47/100\n",
            "239/239 [==============================] - 0s 1ms/step - loss: 0.0305\n",
            "Epoch 48/100\n",
            "239/239 [==============================] - 0s 1ms/step - loss: 0.0287\n",
            "Epoch 49/100\n",
            "239/239 [==============================] - 0s 1ms/step - loss: 0.0270\n",
            "Epoch 50/100\n",
            "239/239 [==============================] - 0s 1ms/step - loss: 0.0250\n",
            "Epoch 51/100\n",
            "239/239 [==============================] - 0s 1ms/step - loss: 0.0238\n",
            "Epoch 52/100\n",
            "239/239 [==============================] - 0s 1ms/step - loss: 0.0218\n",
            "Epoch 53/100\n",
            "239/239 [==============================] - 0s 1ms/step - loss: 0.0205\n",
            "Epoch 54/100\n",
            "239/239 [==============================] - 0s 1ms/step - loss: 0.0191\n",
            "Epoch 55/100\n",
            "239/239 [==============================] - 0s 1ms/step - loss: 0.0181\n",
            "Epoch 56/100\n",
            "239/239 [==============================] - 0s 1ms/step - loss: 0.0167\n",
            "Epoch 57/100\n",
            "239/239 [==============================] - 0s 1ms/step - loss: 0.0154\n",
            "Epoch 58/100\n",
            "239/239 [==============================] - 0s 1ms/step - loss: 0.0149\n",
            "Epoch 59/100\n",
            "239/239 [==============================] - 0s 1ms/step - loss: 0.0137\n",
            "Epoch 60/100\n",
            "239/239 [==============================] - 0s 1ms/step - loss: 0.0128\n",
            "Epoch 61/100\n",
            "239/239 [==============================] - 0s 1ms/step - loss: 0.0117\n",
            "Epoch 62/100\n",
            "239/239 [==============================] - 0s 1ms/step - loss: 0.0110\n",
            "Epoch 63/100\n",
            "239/239 [==============================] - 0s 1ms/step - loss: 0.0104\n",
            "Epoch 64/100\n",
            "239/239 [==============================] - 0s 1ms/step - loss: 0.0096\n",
            "Epoch 65/100\n",
            "239/239 [==============================] - 0s 1ms/step - loss: 0.0089\n",
            "Epoch 66/100\n",
            "239/239 [==============================] - 0s 1ms/step - loss: 0.0085\n",
            "Epoch 67/100\n",
            "239/239 [==============================] - 0s 1ms/step - loss: 0.0079\n",
            "Epoch 68/100\n",
            "239/239 [==============================] - 0s 1ms/step - loss: 0.0074\n",
            "Epoch 69/100\n",
            "239/239 [==============================] - 0s 1ms/step - loss: 0.0070\n",
            "Epoch 70/100\n",
            "239/239 [==============================] - 0s 1ms/step - loss: 0.0063\n",
            "Epoch 71/100\n",
            "239/239 [==============================] - 0s 1ms/step - loss: 0.0062\n",
            "Epoch 72/100\n",
            "239/239 [==============================] - 0s 1ms/step - loss: 0.0056\n",
            "Epoch 73/100\n",
            "239/239 [==============================] - 0s 1ms/step - loss: 0.0051\n",
            "Epoch 74/100\n",
            "239/239 [==============================] - 0s 1ms/step - loss: 0.0050\n",
            "Epoch 75/100\n",
            "239/239 [==============================] - 0s 1ms/step - loss: 0.0046\n",
            "Epoch 76/100\n",
            "239/239 [==============================] - 0s 1ms/step - loss: 0.0042\n",
            "Epoch 77/100\n",
            "239/239 [==============================] - 0s 1ms/step - loss: 0.0039\n",
            "Epoch 78/100\n",
            "239/239 [==============================] - 0s 1ms/step - loss: 0.0036\n",
            "Epoch 79/100\n",
            "239/239 [==============================] - 0s 1ms/step - loss: 0.0033\n",
            "Epoch 80/100\n",
            "239/239 [==============================] - 0s 1ms/step - loss: 0.0031\n",
            "Epoch 81/100\n",
            "239/239 [==============================] - 0s 1ms/step - loss: 0.0028\n",
            "Epoch 82/100\n",
            "239/239 [==============================] - 0s 1ms/step - loss: 0.0026\n",
            "Epoch 83/100\n",
            "239/239 [==============================] - 0s 1ms/step - loss: 0.0024\n",
            "Epoch 84/100\n",
            "239/239 [==============================] - 0s 1ms/step - loss: 0.0023\n",
            "Epoch 85/100\n",
            "239/239 [==============================] - 0s 1ms/step - loss: 0.0019\n",
            "Epoch 86/100\n",
            "239/239 [==============================] - 0s 1ms/step - loss: 0.0018\n",
            "Epoch 87/100\n",
            "239/239 [==============================] - 0s 1ms/step - loss: 0.0018\n",
            "Epoch 88/100\n",
            "239/239 [==============================] - 0s 1ms/step - loss: 0.0016\n",
            "Epoch 89/100\n",
            "239/239 [==============================] - 0s 1ms/step - loss: 0.0015\n",
            "Epoch 90/100\n",
            "239/239 [==============================] - 0s 1ms/step - loss: 0.0012\n",
            "Epoch 91/100\n",
            "239/239 [==============================] - 0s 1ms/step - loss: 0.0012\n",
            "Epoch 92/100\n",
            "239/239 [==============================] - 0s 1ms/step - loss: 0.0010\n",
            "Epoch 93/100\n",
            "239/239 [==============================] - 0s 1ms/step - loss: 0.0010\n",
            "Epoch 94/100\n",
            "239/239 [==============================] - 0s 1ms/step - loss: 8.1820e-04\n",
            "Epoch 95/100\n",
            "239/239 [==============================] - 0s 1ms/step - loss: 8.7768e-04\n",
            "Epoch 96/100\n",
            "239/239 [==============================] - 0s 1ms/step - loss: 7.5334e-04\n",
            "Epoch 00096: early stopping\n"
          ],
          "name": "stdout"
        }
      ]
    },
    {
      "cell_type": "code",
      "metadata": {
        "colab": {
          "base_uri": "https://localhost:8080/"
        },
        "id": "FQxWNyTF0qlN",
        "outputId": "8fd8c972-29db-49d4-e8e5-d65428cc5f1c"
      },
      "source": [
        "nn_model.evaluate(Xotest, yotest)\n",
        "y_pred_test_nn  = nn_model.predict(Xotest)\n",
        "\n",
        "nn_pred = []\n",
        "for i in y_pred_test_nn:\n",
        "  if i > 0.5:\n",
        "    nn_pred.append(1)\n",
        "  else:\n",
        "    nn_pred.append(0)\n",
        "\n",
        "#predicciones= pd.DataFrame(nn_pred)\n",
        "yotest = yotest.to_numpy()\n",
        "print(\"Las predicciones realizadas son las siguientes:\\n\",np.transpose(nn_pred))\n",
        "print(\"Las etiquetas contra las que compararemos\\n\",np.transpose(yotest))\n",
        "\n"
      ],
      "execution_count": null,
      "outputs": [
        {
          "output_type": "stream",
          "text": [
            "WARNING:tensorflow:5 out of the last 15 calls to <function Model.make_test_function.<locals>.test_function at 0x7f4a35f353b0> triggered tf.function retracing. Tracing is expensive and the excessive number of tracings could be due to (1) creating @tf.function repeatedly in a loop, (2) passing tensors with different shapes, (3) passing Python objects instead of tensors. For (1), please define your @tf.function outside of the loop. For (2), @tf.function has experimental_relax_shapes=True option that relaxes argument shapes that can avoid unnecessary retracing. For (3), please refer to https://www.tensorflow.org/guide/function#controlling_retracing and https://www.tensorflow.org/api_docs/python/tf/function for  more details.\n",
            "2/2 [==============================] - 0s 10ms/step - loss: 0.2055\n",
            "WARNING:tensorflow:5 out of the last 15 calls to <function Model.make_predict_function.<locals>.predict_function at 0x7f4a35634dd0> triggered tf.function retracing. Tracing is expensive and the excessive number of tracings could be due to (1) creating @tf.function repeatedly in a loop, (2) passing tensors with different shapes, (3) passing Python objects instead of tensors. For (1), please define your @tf.function outside of the loop. For (2), @tf.function has experimental_relax_shapes=True option that relaxes argument shapes that can avoid unnecessary retracing. For (3), please refer to https://www.tensorflow.org/guide/function#controlling_retracing and https://www.tensorflow.org/api_docs/python/tf/function for  more details.\n",
            "Las predicciones realizadas son las siguientes:\n",
            " [0 0 0 1 0 0 1 0 1 0 0 0 0 0 0 0 0 0 0 1 0 0 1 1 1 0 0 0 0 0 1 0 1 1 1 1 0\n",
            " 0 0 0 1 1 0 0 0 0 0 0 0 0 1 0 0 0 0 0 0 0 0 1]\n",
            "Las etiquetas contra las que compararemos\n",
            " [[0 0 1 1 0 0 1 0 1 0 0 1 1 0 0 1 0 0 1 1 0 0 0 1 1 0 0 0 1 0 1 0 0 1 1 1\n",
            "  1 1 0 0 1 1 0 0 0 0 0 0 0 0 1 1 1 0 0 0 0 1 0 1]]\n"
          ],
          "name": "stdout"
        }
      ]
    },
    {
      "cell_type": "code",
      "metadata": {
        "colab": {
          "base_uri": "https://localhost:8080/"
        },
        "id": "GA4EsOPi7IHs",
        "outputId": "ae7ca59e-dd2b-4a34-d082-32a59b805484"
      },
      "source": [
        "from sklearn.metrics import classification_report as cr\n",
        "print(cr(yotest, nn_pred))"
      ],
      "execution_count": null,
      "outputs": [
        {
          "output_type": "stream",
          "text": [
            "              precision    recall  f1-score   support\n",
            "\n",
            "           0       0.75      0.94      0.84        35\n",
            "           1       0.88      0.56      0.68        25\n",
            "\n",
            "    accuracy                           0.78        60\n",
            "   macro avg       0.81      0.75      0.76        60\n",
            "weighted avg       0.80      0.78      0.77        60\n",
            "\n"
          ],
          "name": "stdout"
        }
      ]
    }
  ]
}